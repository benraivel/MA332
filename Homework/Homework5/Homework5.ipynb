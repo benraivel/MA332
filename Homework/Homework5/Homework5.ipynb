{
 "cells": [
  {
   "attachments": {},
   "cell_type": "markdown",
   "metadata": {},
   "source": [
    "# MA332 Homework 5\n",
    "#### *Ben Raivel*"
   ]
  },
  {
   "cell_type": "code",
   "execution_count": 1,
   "metadata": {},
   "outputs": [],
   "source": [
    "import numpy as np\n",
    "import scipy\n",
    "from time import time\n",
    "import matplotlib.pyplot as plt"
   ]
  },
  {
   "attachments": {},
   "cell_type": "markdown",
   "metadata": {},
   "source": [
    "## Problem 1.\n",
    "\n",
    "$$\n",
    "A =\n",
    "\\begin{pmatrix}\n",
    "0 & 1 & 1\\\\\n",
    "1 & -2 & 1\\\\\n",
    "1 & -1 & 1\n",
    "\\end{pmatrix}\n",
    "$$"
   ]
  },
  {
   "attachments": {},
   "cell_type": "markdown",
   "metadata": {},
   "source": [
    "## Problem 2."
   ]
  },
  {
   "attachments": {},
   "cell_type": "markdown",
   "metadata": {},
   "source": [
    "### (a) Jacobi method implementation"
   ]
  },
  {
   "cell_type": "code",
   "execution_count": 14,
   "metadata": {},
   "outputs": [],
   "source": [
    "def jacobi(A, b, x=None, tol=1e-6, precision=np.float32, verbose=False):\n",
    "    \"\"\"Solve the equation Ax = b for x\n",
    "    \n",
    "    Parameters:\n",
    "    -----------\n",
    "    - A: (n x n) matrix\n",
    "    - b: (n x 1) vector\n",
    "    - x (optional): Initial guess\n",
    "    - tol: Forward error tolerance\n",
    "    - precision: Type of float to use. For large matrices, using 16 or\n",
    "        32 bits can be faster/more stable.\n",
    "    - verbose: Whether to print the number of iterations taken.\n",
    "    \"\"\"\n",
    "    # using 32 bit precision helps stop python from crashing\n",
    "    # particularly on Problem 4\n",
    "    if (A.dtype != precision.__name__):\n",
    "        A = A.astype(precision)\n",
    "        b = b.astype(precision)\n",
    "\n",
    "    if x is None:  # make an initial guess (zeros)\n",
    "        x = np.zeros(b.shape, dtype=precision)\n",
    "    x_prev = np.zeros(b.shape, dtype=precision)\n",
    "    \n",
    "    # get diagonal of A and its inverse\n",
    "    d = np.diag(A)\n",
    "    d_inv = (1/d)\n",
    "\n",
    "    # get D and D_inv as matrices\n",
    "    D = d*np.eye(len(A), dtype=precision)\n",
    "    D_inv = d_inv*np.eye(len(A), dtype=precision)\n",
    "\n",
    "    # find (L + U)\n",
    "    LU = A - D\n",
    "\n",
    "    iter = 0\n",
    "    error = np.inf\n",
    "\n",
    "    # iterate until error is less than tol\n",
    "    while error > tol:\n",
    "        x_prev = x\n",
    "\n",
    "        # update x\n",
    "        x = np.dot(D_inv, b - np.dot(LU, x_prev))\n",
    "        \n",
    "        # calculate forward error\n",
    "        error = np.linalg.norm(x - x_prev, ord=np.inf)\n",
    "\n",
    "        iter += 1\n",
    "\n",
    "    if verbose:\n",
    "        print(f'Found x in {iter} iterations')\n",
    "\n",
    "    return x"
   ]
  },
  {
   "attachments": {},
   "cell_type": "markdown",
   "metadata": {},
   "source": [
    "### b) Operations per iteration"
   ]
  },
  {
   "attachments": {},
   "cell_type": "markdown",
   "metadata": {},
   "source": [
    "Two lines of code update the approximation within the loop. The first is:\n",
    "    \n",
    "    x = np.dot(D_inv, b - np.dot(LU, x_prev))\n",
    "\n",
    "This line consists of a matrix multiplication `np.dot(LU, x_prev)` ($n^2$ multiplications then $n^2$ additions), followed by subtraction of two $n \\times 1$ vectors— `b` minus the result of the previous matrix multiplication (another $n$ operations), the resulting vector is then matrix-multiplied by $D^{-1}$ (requiring a further $n^2$ multiplications then $n^2$ additions). In total this line requires $n^2 + n^2 + n + n^2 + n^2 = \\bf{4n^2 + n}$ operations.\n",
    "\n",
    "The second line within the loop is:\n",
    "\n",
    "    error = np.linalg.norm(x - x_prev, ord=np.inf)\n",
    "\n",
    "This line consists of a subtraction of two $n \\times 1$ vectors ($n$ operations), of which the $l_\\infty$ norm is then taken. The $l_\\infty$ norm for a vector $x$ is equivalent to `max(abs(x))`, so count this as a further $2n$ operations.\n",
    "\n",
    "Combining the operation count of these two lines gives a total number of operations per iteration count of $4n^2 + 3n$, or a time-complexity of $\\mathcal{O}(n^2)$"
   ]
  },
  {
   "attachments": {},
   "cell_type": "markdown",
   "metadata": {},
   "source": [
    "### c)"
   ]
  },
  {
   "attachments": {},
   "cell_type": "markdown",
   "metadata": {},
   "source": [
    "The system of equations can be written as a matrix equation of the form $Ax = b$:\n",
    "$$\n",
    "\\begin{cases}\n",
    "    10x_1 + 5x_2 = 6\\\\\n",
    "    5x_1 + 10x_2 - 4x_3 = 25\\\\\n",
    "    -4x_2 + 8x_3 - x_4 = -11\\\\\n",
    "    -x_3 + 5x_4 = -11\n",
    "\\end{cases}\n",
    "\\qquad \\rightarrow \\qquad\n",
    "\\begin{pmatrix}\n",
    "    10 & 5 & 0 & 0\\\\\n",
    "    5 & 10 & -4 & 0\\\\\n",
    "    0 & -4 & 8 & -1\\\\\n",
    "    0 & 0 & -1 & 5\n",
    "\\end{pmatrix}\n",
    "\\begin{pmatrix}\n",
    "    x_1\\\\\n",
    "    x_2\\\\\n",
    "    x_3\\\\\n",
    "    x_4\n",
    "\\end{pmatrix} =\n",
    "\\begin{pmatrix}\n",
    "    6\\\\\n",
    "    25\\\\\n",
    "    -11\\\\\n",
    "    -11\n",
    "\\end{pmatrix}\n",
    "$$"
   ]
  },
  {
   "cell_type": "code",
   "execution_count": 15,
   "metadata": {},
   "outputs": [
    {
     "name": "stdout",
     "output_type": "stream",
     "text": [
      "Found x in 33 iterations\n",
      "[[-0.8 ]\n",
      " [ 2.8 ]\n",
      " [-0.26]\n",
      " [-2.25]]\n"
     ]
    }
   ],
   "source": [
    "A = np.array([[10, 5, 0, 0],\n",
    "              [5, 10, -4, 0],\n",
    "              [0, -4, 8, -1],\n",
    "              [0, 0, -1, 5]])\n",
    "\n",
    "b = np.array([[6],\n",
    "              [25],\n",
    "              [-11],\n",
    "              [-11]])\n",
    "\n",
    "x = jacobi(A, b, tol=1e-5, verbose=True)\n",
    "print(np.round(x, 2))"
   ]
  },
  {
   "attachments": {},
   "cell_type": "markdown",
   "metadata": {},
   "source": [
    "### d)\n",
    "The method took 33 iterations to find x within $10^{-5}$, this corresponds to $4(33)^2 + 3(33) = 4455$ operations."
   ]
  },
  {
   "attachments": {},
   "cell_type": "markdown",
   "metadata": {},
   "source": [
    "## Problem 3."
   ]
  },
  {
   "attachments": {},
   "cell_type": "markdown",
   "metadata": {},
   "source": [
    "### b)"
   ]
  },
  {
   "cell_type": "code",
   "execution_count": 24,
   "metadata": {},
   "outputs": [],
   "source": [
    "def lu_backsolve(P, L, U, b):\n",
    "    \"\"\"Solve Ax = b given the LU-decomposition of A (PA = LU)\n",
    "    \n",
    "    Parameters:\n",
    "    -----------\n",
    "    - P: Permutation matrix, holds row swap information\n",
    "    - L: Lower triangular component\n",
    "    - U: Upper triangular component\n",
    "    - b: (n x 1) vector\n",
    "    \"\"\"\n",
    "\n",
    "    # apply inverse permutation matrix to b\n",
    "    Pb = np.dot(P.T, b)\n",
    "\n",
    "    # arrays to hold x, y values\n",
    "    y = np.zeros(len(L))\n",
    "    x = np.zeros(len(U))\n",
    "\n",
    "    # forward substitution\n",
    "    for i in range(len(L)):\n",
    "        y[i] = (Pb[i] - np.dot(L[i, :i], y[:i]))/L[i, i]\n",
    "\n",
    "    # backward substitution\n",
    "    for i in reversed(range(len(U))):\n",
    "        x[i] = (y[i] - np.dot(U[i, i:], x[i:]))/U[i, i]\n",
    "\n",
    "    return x"
   ]
  },
  {
   "attachments": {},
   "cell_type": "markdown",
   "metadata": {},
   "source": [
    "### c)"
   ]
  },
  {
   "cell_type": "code",
   "execution_count": 25,
   "metadata": {},
   "outputs": [
    {
     "name": "stdout",
     "output_type": "stream",
     "text": [
      "[ 3. -1. -0.  2.]\n"
     ]
    }
   ],
   "source": [
    "A = np.array([[1, 1, 0, 3],\n",
    "              [2, 1, -1, 1],\n",
    "              [3, -1, -1, 2],\n",
    "              [-1, 2, 3, -1]])\n",
    "\n",
    "b = np.array([[8],\n",
    "              [7],\n",
    "              [14],\n",
    "              [-7]])\n",
    "\n",
    "p, l, u = scipy.linalg.lu(A)\n",
    "\n",
    "x = lu_backsolve(p, l, u, b)\n",
    "\n",
    "print(np.round(x, 2))"
   ]
  },
  {
   "attachments": {},
   "cell_type": "markdown",
   "metadata": {},
   "source": [
    "## Problem 4."
   ]
  },
  {
   "attachments": {},
   "cell_type": "markdown",
   "metadata": {},
   "source": [
    "Define a function to create a $n \\times n$ diagonally dominant matrix"
   ]
  },
  {
   "cell_type": "code",
   "execution_count": 18,
   "metadata": {},
   "outputs": [],
   "source": [
    "def diag_dominant_mat(size):\n",
    "\n",
    "    rng = np.random.default_rng()\n",
    "    mat = 2*size*np.eye(size) + (rng.integers(4, size=(size, size)) - 2)\n",
    "    \n",
    "    return mat"
   ]
  },
  {
   "cell_type": "code",
   "execution_count": 19,
   "metadata": {},
   "outputs": [
    {
     "name": "stdout",
     "output_type": "stream",
     "text": [
      "Starting size 10...\n",
      "Starting size 100...\n",
      "Starting size 1000...\n",
      "Starting size 10000...\n",
      "Starting size 15000...\n"
     ]
    }
   ],
   "source": [
    "sizes = [10, 100, 1000, 10000, 15000]\n",
    "\n",
    "# Number of iterations to do at each size, inversely proportional to size\n",
    "# helps with consistency (especially at small sizes)\n",
    "n = [int(max(sizes)/s) for s in sizes]\n",
    "\n",
    "lu_time = []\n",
    "jacobi_time = []\n",
    "\n",
    "for i, s in enumerate(sizes):\n",
    "    print(f'Starting size {s}...')\n",
    "\n",
    "    lu_total = 0\n",
    "    jacobi_total = 0\n",
    "    for _ in range(n[i]):\n",
    "        mat = diag_dominant_mat(s)\n",
    "        b = np.ones(s)\n",
    "\n",
    "        lu_start = time()\n",
    "        p, l, u = scipy.linalg.lu(mat)\n",
    "        x = backsolve_lu(p, l, u, b)\n",
    "        lu_end = time()\n",
    "        lu_total += lu_end - lu_start\n",
    "\n",
    "        jacobi_start = time()\n",
    "\n",
    "        # python consistently crashes (both in the jupyter notebook\n",
    "        # and running on the command line) with size=15000 and \n",
    "        # 32 or 64 bit precision, so use 16 bit float\n",
    "        x = jacobi(mat, b, tol=1e-4, precision=np.float16)\n",
    "        jacobi_end = time()\n",
    "        jacobi_total += jacobi_end - jacobi_start\n",
    "\n",
    "        del mat\n",
    "        del p\n",
    "        del l\n",
    "        del u\n",
    "    \n",
    "    lu_time.append(lu_total/n[i])\n",
    "    jacobi_time.append(jacobi_total/n[i])"
   ]
  },
  {
   "cell_type": "code",
   "execution_count": 20,
   "metadata": {},
   "outputs": [
    {
     "data": {
      "image/png": "[encoded data removed]",
      "text/plain": [
       "<Figure size 640x480 with 1 Axes>"
      ]
     },
     "metadata": {},
     "output_type": "display_data"
    }
   ],
   "source": [
    "fig, ax = plt.subplots()\n",
    "\n",
    "ax.plot(sizes, lu_time, label='LU decomposition')\n",
    "ax.plot(sizes, jacobi_time, label='Jacobi method')\n",
    "\n",
    "ax.loglog()\n",
    "ax.set_xlabel('Number of rows/columns')\n",
    "ax.set_ylabel('Time (seconds)')\n",
    "fig.legend()\n",
    "\n",
    "plt.show()"
   ]
  },
  {
   "attachments": {},
   "cell_type": "markdown",
   "metadata": {},
   "source": [
    "Based on the graph, the iterative method outperforms the direct method for $n \\gtrapprox 20$."
   ]
  },
  {
   "attachments": {},
   "cell_type": "markdown",
   "metadata": {},
   "source": [
    "#### Why isn't the Jacobi method much faster than LU decomposition/backsolve?\n",
    "Short answer: it is, by my processor doesn't support 16 bit floating point math and the extra processing (by software) cuts into the advantage of using an iterative method.\n",
    "\n",
    "To show this, run the same test as above but only up to a size of 10,000 with LU decomposition and the Jacobi method at 3 levels of precision (16, 32, and 64 bits):"
   ]
  },
  {
   "cell_type": "code",
   "execution_count": 21,
   "metadata": {},
   "outputs": [
    {
     "name": "stdout",
     "output_type": "stream",
     "text": [
      "Starting size 10...\n",
      "Starting size 100...\n",
      "Starting size 1000...\n",
      "Starting size 10000...\n"
     ]
    }
   ],
   "source": [
    "sizes = [10, 100, 1000, 10000]\n",
    "\n",
    "# Number of iterations to do at each size, inversely proportional to size\n",
    "# helps with consistency (especially at small sizes)\n",
    "n = 10*[int(max(sizes)/s) for s in sizes]\n",
    "\n",
    "float16_time = []\n",
    "float32_time = []\n",
    "float64_time = []\n",
    "lu_time = []\n",
    "\n",
    "for i, s in enumerate(sizes):\n",
    "    print(f'Starting size {s}...')\n",
    "    \n",
    "    float16_total_time = 0\n",
    "    float32_total_time = 0\n",
    "    float64_total_time = 0\n",
    "    lu_total_time = 0\n",
    "    \n",
    "    # do multiple iterations at each size\n",
    "    for _ in range(n[i]):\n",
    "\n",
    "        # 16 Bit\n",
    "        # ------\n",
    "        mat = diag_dominant_mat(s).astype(np.float16)\n",
    "        b = np.ones(s).astype(np.float16)\n",
    "\n",
    "        # Jacobi Method\n",
    "        float16_start = time()\n",
    "        x = jacobi(mat, b, precision=np.float16, tol=1e-4)\n",
    "        float16_end = time()\n",
    "        float16_total_time += float16_end - float16_start\n",
    "\n",
    "        # 32 Bit\n",
    "        # ------\n",
    "        mat = mat.astype(np.float32)\n",
    "        b = b.astype(np.float32)\n",
    "\n",
    "        # Jacobi Method\n",
    "        float32_start = time()\n",
    "        x = jacobi(mat, b, tol=1e-4)\n",
    "        float32_end = time()\n",
    "        float32_total_time += float32_end - float32_start\n",
    "\n",
    "        # 64 Bit\n",
    "        # ------\n",
    "        mat = mat.astype(np.float64)\n",
    "        b = b.astype(np.float64)\n",
    "\n",
    "        # Jacobi Method\n",
    "        float64_start = time()\n",
    "        x = jacobi(mat, b, precision=np.float64, tol=1e-4)\n",
    "        float64_end = time()\n",
    "        float64_total_time += float64_end - float64_start\n",
    "\n",
    "        # LU Decomposition\n",
    "        lu_start = time()\n",
    "        p, l, u = scipy.linalg.lu(mat)\n",
    "        x = backsolve_lu(p, l, u, b)\n",
    "        lu_end = time()\n",
    "        lu_total_time += lu_end - lu_start\n",
    "\n",
    "        del mat  # give the GC some help\n",
    "    \n",
    "    # Record average values\n",
    "    float16_time.append(float16_total_time/n[i])\n",
    "    float32_time.append(float32_total_time/n[i])\n",
    "    float64_time.append(float64_total_time/n[i])\n",
    "    lu_time.append(lu_total_time/n[i])"
   ]
  },
  {
   "cell_type": "code",
   "execution_count": 23,
   "metadata": {},
   "outputs": [
    {
     "data": {
      "image/png": "[encoded data removed]",
      "text/plain": [
       "<Figure size 640x480 with 1 Axes>"
      ]
     },
     "metadata": {},
     "output_type": "display_data"
    }
   ],
   "source": [
    "fig, ax = plt.subplots()\n",
    "\n",
    "ax.plot(sizes, float16_time, label='16 bit float')\n",
    "ax.plot(sizes, float32_time, label='32 bit float')\n",
    "ax.plot(sizes, float64_time, label='64 bit float')\n",
    "ax.plot(sizes, lu_time, label='LU decomposition')\n",
    "\n",
    "ax.loglog()\n",
    "ax.set_xlabel('Number of rows/columns')\n",
    "ax.set_ylabel('Time (seconds)')\n",
    "\n",
    "fig.legend(bbox_to_anchor=(1.2,1))\n",
    "\n",
    "plt.show()"
   ]
  },
  {
   "attachments": {},
   "cell_type": "markdown",
   "metadata": {},
   "source": [
    "With this graph, it is clear that the Jacobi method significantly outperforms LU decomposition/backsolve. The advantage is more than 1 order of magnitude for sizes greater than 1,000 with 32 bit floats (the smallest supported by my processor). 64 bit floats are better than 32 bit ones at small sizes but worse with larger matrices. 16 bit floats are the worst in terms of computational efficiency but the reduced memory pressure prevents python from crashing with large matrices ($n=15,000$ is 1.8 GB in 64 bit floats vs 450 MB in 16 bit floats)."
   ]
  },
  {
   "attachments": {},
   "cell_type": "markdown",
   "metadata": {},
   "source": [
    "## Problem 5."
   ]
  },
  {
   "cell_type": "code",
   "execution_count": null,
   "metadata": {},
   "outputs": [],
   "source": [
    "def is_diag_dominant(A):\n",
    "\n",
    "    d = np.diag(A)\n",
    "\n",
    "    D = d*np.eye(len(A))\n",
    "\n",
    "    # get A without the diagonal entries\n",
    "    R = A - D\n",
    "\n",
    "    sum_row_mags = np.sum(np.abs(R), axis=1)\n",
    "\n",
    "    if (d > sum_row_mags).all():\n",
    "        return True\n",
    "    else:\n",
    "        return False"
   ]
  },
  {
   "cell_type": "code",
   "execution_count": null,
   "metadata": {},
   "outputs": [
    {
     "data": {
      "text/plain": [
       "True"
      ]
     },
     "execution_count": 32,
     "metadata": {},
     "output_type": "execute_result"
    }
   ],
   "source": [
    "is_diag_dominant(diag_dominant_mat(10))"
   ]
  },
  {
   "cell_type": "code",
   "execution_count": null,
   "metadata": {},
   "outputs": [
    {
     "data": {
      "text/plain": [
       "False"
      ]
     },
     "execution_count": 33,
     "metadata": {},
     "output_type": "execute_result"
    }
   ],
   "source": [
    "is_diag_dominant(np.ones((10, 10)))"
   ]
  },
  {
   "attachments": {},
   "cell_type": "markdown",
   "metadata": {},
   "source": [
    "## 6."
   ]
  },
  {
   "attachments": {},
   "cell_type": "markdown",
   "metadata": {},
   "source": [
    "### (a)"
   ]
  },
  {
   "attachments": {},
   "cell_type": "markdown",
   "metadata": {},
   "source": [
    "If no rows are swapped, then $P$ is the identity matrix and $\\text{det} P = 1$.\n",
    "\n",
    "Any permutation matrix can be obtained by swapping the rows of the identity matrix. Swapping rows changes the sign of the determinant: after one swap $\\text{det} P = -1$, after two swaps $\\text{det} P = 1$, etc.\n",
    "\n",
    "The determinant of a permutation matrix which performs $k$ row swaps can therefore be written as:\n",
    "$$\\text{det} P = (-1)^k$$"
   ]
  },
  {
   "attachments": {},
   "cell_type": "markdown",
   "metadata": {},
   "source": [
    "### (b)"
   ]
  },
  {
   "attachments": {},
   "cell_type": "markdown",
   "metadata": {},
   "source": [
    "Finding $\\text{det} P^T$ requires counting the number of zeros on the diagonal of $P$ ($\\sim n$ operations).\n",
    "$\\text{det} L$ and $\\text{det} U$ can be found using the properties of block matrices, particularly:\n",
    "$$\n",
    "\\text{det}\n",
    "\\begin{pmatrix}\n",
    "A & 0\\\\\n",
    "C & D\n",
    "\\end{pmatrix} =\n",
    "\\text{det}\n",
    "\\begin{pmatrix}\n",
    "A & B\\\\\n",
    "0 & D\n",
    "\\end{pmatrix} = \\text{det} A \\cdot \\text{det} D\n",
    "$$\n",
    "To find $\\text{det} L$ and $\\text{det} U$ (for $n \\times n$ matrices $L$ and $U$), divide the matrix into $n/2$, $2 \\times 2$ matrices along the diagonal (if n is odd, then the determinant of the last $1 \\times 1$ matrix is just the value in that matrix), for each one compute the determinant according to:\n",
    "$$\n",
    "\\text{det}\n",
    "\\begin{pmatrix}\n",
    "a & b\\\\\n",
    "c & d\n",
    "\\end{pmatrix} = ad - bc\n",
    "$$\n",
    "Computing each determinant takes 3 operations, or $\\frac{3}{2}n$ for the whole matrix, plus another $n/2$ multiplications to combine them.\n",
    "\n",
    "In total, computing $\\text{det} A$ (assuming LU decomposition has already been performed) requires $5n$ operations ($n$ to find $\\text{det} P^T$ and $2n$ each to find $\\text{det}L$ and $\\text{det}U$). "
   ]
  },
  {
   "cell_type": "markdown",
   "metadata": {},
   "source": []
  }
 ],
 "metadata": {
  "kernelspec": {
   "display_name": "Python 3",
   "language": "python",
   "name": "python3"
  },
  "language_info": {
   "codemirror_mode": {
    "name": "ipython",
    "version": 3
   },
   "file_extension": ".py",
   "mimetype": "text/x-python",
   "name": "python",
   "nbconvert_exporter": "python",
   "pygments_lexer": "ipython3",
   "version": "3.10.10"
  },
  "orig_nbformat": 4
 },
 "nbformat": 4,
 "nbformat_minor": 2
}
