{
 "cells": [
  {
   "cell_type": "markdown",
   "metadata": {},
   "source": [
    "# MA332 Homework 2\n",
    "Ben Raivel"
   ]
  },
  {
   "cell_type": "code",
   "execution_count": 1,
   "metadata": {},
   "outputs": [],
   "source": [
    "from numpy import abs, sqrt, linspace, pi, sin, nan, min, max, unique, empty, exp\n",
    "import matplotlib\n",
    "import matplotlib.pyplot as plt"
   ]
  },
  {
   "cell_type": "markdown",
   "metadata": {},
   "source": [
    "## Algorithms"
   ]
  },
  {
   "cell_type": "markdown",
   "metadata": {},
   "source": [
    "### Fixed Point Iteration (FPI):"
   ]
  },
  {
   "cell_type": "code",
   "execution_count": 2,
   "metadata": {},
   "outputs": [],
   "source": [
    "def fpi(f, x, iter=1000, tol=1e-2):\n",
    "    ''' Finds the fixed point x* = f(x*) of function f starting at x using fixed point iteration'''\n",
    "    x_n = []  # list to hold guesses\n",
    "\n",
    "    for n in range(iter):\n",
    "        x_n.append(x)\n",
    "\n",
    "        if abs(f(x) - x) < tol:  # check stopping condition\n",
    "            return x_n\n",
    "      \n",
    "        elif x > 1e10:  # other stopping condition\n",
    "            return x_n\n",
    "\n",
    "        x = f(x)  # update approximation\n",
    "    return x_n"
   ]
  },
  {
   "cell_type": "markdown",
   "metadata": {},
   "source": [
    "### Bisection Method:"
   ]
  },
  {
   "cell_type": "code",
   "execution_count": 3,
   "metadata": {},
   "outputs": [],
   "source": [
    "def bisection(f, a, b, iter=100, tol=1e-2):\n",
    "    ''' Finds the root of function f on [a,b] using the bisection method'''\n",
    "\n",
    "    if f(a)*f(b) > 0: raise 'No root on [a, b]'\n",
    "\n",
    "    x_n = []  # list to hold guesses\n",
    "\n",
    "    for n in range(iter):\n",
    "\n",
    "        mid = (a + b)/2  # compute approximate root (midpoint)\n",
    "        x_n.append(mid)\n",
    "\n",
    "        if abs(f(mid)) < tol: return x_n  # check stopping condition\n",
    "\n",
    "        elif f(a)*f(mid) > 0: a = mid  # check which bound to update\n",
    "\n",
    "        else: b = mid\n",
    "    return x_n"
   ]
  },
  {
   "cell_type": "markdown",
   "metadata": {},
   "source": [
    "### Newton's Method:"
   ]
  },
  {
   "cell_type": "code",
   "execution_count": 4,
   "metadata": {},
   "outputs": [],
   "source": [
    "def newton(f, df, x, iter=1000, tol=1e-2):\n",
    "    ''' Finds the root of function f with derivative df using Newton's method starting at x'''\n",
    "    \n",
    "    x_n = []  # list to hold guesses\n",
    "    \n",
    "    for i in range(iter):\n",
    "        x_n.append(x)\n",
    "        \n",
    "        if abs(f(x)) < tol: return x_n  # check stopping condition\n",
    "\n",
    "        x = x - f(x)/df(x)  # update approximation\n",
    "    return x_n"
   ]
  },
  {
   "cell_type": "markdown",
   "metadata": {},
   "source": [
    "## Problem 1\n",
    "\n",
    "Starting with:\n",
    "$$ x^3 + x - 2 = 0 $$\n",
    "\n",
    "Add $ cx $ to both sides:\n",
    "$$ x^3 + x - 2 + cx = cx $$\n",
    "\n",
    "Divide the equation by $ c $ to get a function $ g(x) $ with fixed point $ g(1) = 1 $:\n",
    "$$ g(x) = \\frac{1}{c}x^3 + \\frac{c+1}{c}x - \\frac{2}{c} = x $$\n",
    "\n",
    "For fixed point problem $ g(p) = p $, fixed point iteration will converge linearly with rate $ s $, **if** $ s $ satisfies:\n",
    "$$ s \\equiv | g^\\prime(p) | < 1 $$ \n",
    "\n",
    "Compute the derivative of $ g $:\n",
    "$$ g^\\prime(x) = \\frac{3}{c}x^2 + \\frac{c+1}{c} $$\n",
    "\n",
    "Which gives $ s $:\n",
    "$$ s = | g^\\prime(1) | = | \\frac{3}{c} + \\frac{c+1}{c} | = | 1 + \\frac{4}{c} | $$\n",
    "\n",
    "To satisfy $ | 1 + \\frac{4}{c} | < 1 $\n",
    "\n",
    "Error on the $ (n + 1)^{\\text{th}} $ iteration is related to $ s $ by:\n",
    "$$ E_{n + 1} \\approx sE_n  $$"
   ]
  },
  {
   "cell_type": "markdown",
   "metadata": {},
   "source": [
    "## Problem 2"
   ]
  },
  {
   "cell_type": "markdown",
   "metadata": {},
   "source": [
    "## Problem 3"
   ]
  },
  {
   "cell_type": "markdown",
   "metadata": {},
   "source": [
    "First define $ f(x) = x^2 - 2 $ and $ \\frac{df(x)}{dx} $:"
   ]
  },
  {
   "cell_type": "code",
   "execution_count": 5,
   "metadata": {},
   "outputs": [],
   "source": [
    "def f(x): return x**2 - 2\n",
    "def df(x): return 2*x"
   ]
  },
  {
   "cell_type": "markdown",
   "metadata": {},
   "source": [
    "Create an array of test x values around the root $ f(\\sqrt{2})=0 $ to compare the convergence of the bisection method and Newton's method"
   ]
  },
  {
   "cell_type": "code",
   "execution_count": 6,
   "metadata": {},
   "outputs": [],
   "source": [
    "sqrt_2 = sqrt(2)\n",
    "test_x = linspace(sqrt_2 + 0.1, sqrt_2 + 10, 1000)"
   ]
  },
  {
   "cell_type": "code",
   "execution_count": 7,
   "metadata": {},
   "outputs": [
    {
     "data": {
      "image/png": "[encoded data removed]",
      "text/plain": [
       "<Figure size 640x480 with 1 Axes>"
      ]
     },
     "metadata": {},
     "output_type": "display_data"
    }
   ],
   "source": [
    "bisection_iter = []\n",
    "newtons_iter = []\n",
    "\n",
    "for i in range(1000):\n",
    "    bisection_iter.append(len(bisection(f, sqrt_2-0.1, test_x[i])))\n",
    "    newtons_iter.append(len(newton(f, df, test_x[i])))\n",
    "\n",
    "plt.plot(test_x, bisection_iter, label='Bisection')\n",
    "plt.plot(test_x, newtons_iter, label=\"Newton's\")\n",
    "plt.legend()\n",
    "plt.title('Iterations to Find Root')\n",
    "plt.xlabel('Initial x')\n",
    "plt.ylabel('Iterations')\n",
    "plt.show()"
   ]
  },
  {
   "cell_type": "markdown",
   "metadata": {},
   "source": [
    "## Problem 4"
   ]
  },
  {
   "cell_type": "markdown",
   "metadata": {},
   "source": [
    "### (a)\n",
    "By the Fixed Point Theorem, $ g(x) $ will have a unique fixed point $ p \\in [a, b]$ if:\n",
    "- $ g \\in C[a, b] $\n",
    "- $ g(x) \\in [a, b] $\n",
    "- There exists a $ k $ such that $ 0 < k < 1 $ and $ | g^\\prime(x) | \\le k $ on $ [a, b] $\n",
    "\n",
    "$ g(x) $ satisfies the first two conditions, to check the third find $ \\frac{dg(x)}{dx} $:\n",
    "$$ \\frac{dg(x)}{dx} = \\frac{1}{8} \\sin(\\frac{x}{2}) $$\n",
    "\n",
    "Clearly one can choose $ k $ such that the third condition is satisfied, therefore $ g(x) $ must have a unique fixed point on $ [a, b] $"
   ]
  },
  {
   "cell_type": "markdown",
   "metadata": {},
   "source": [
    "### (b)\n",
    "Define $ g(x) = \\pi + \\frac{1}{2}\\sin(\\frac{x}{2}) $"
   ]
  },
  {
   "cell_type": "code",
   "execution_count": 8,
   "metadata": {},
   "outputs": [],
   "source": [
    "def g(x): return pi + sin(x/2)/2"
   ]
  },
  {
   "cell_type": "markdown",
   "metadata": {},
   "source": [
    "Find the fixed point on $ [0, 2\\pi] $"
   ]
  },
  {
   "cell_type": "code",
   "execution_count": 9,
   "metadata": {},
   "outputs": [
    {
     "name": "stdout",
     "output_type": "stream",
     "text": [
      "3.626269950250724\n"
     ]
    }
   ],
   "source": [
    "approx = fpi(g, 1)\n",
    "print(approx[-1])"
   ]
  },
  {
   "cell_type": "markdown",
   "metadata": {},
   "source": [
    "### (c)\n",
    "Using the corollary, write:\n",
    "$$ E_n = |x_n - x| \\le k^n \\text{max}\\{x_0 - a, b - x_0\\} $$\n",
    "$$ E_n = 0.01 \\le 0.13^n (2\\pi - 1) $$\n",
    "\n",
    "Which gives:\n",
    "$$ \\frac{0.01}{(2\\pi - 1)} \\le 0.13^n $$\n",
    "$$ \\frac{\\ln \\left( \\frac{0.01}{2\\pi - 1} \\right)}{\\ln(0.13)} \\le n $$\n",
    "$$ n \\ge 3.073 $$\n",
    "\n",
    "Compare to the number of steps taken by the algorithm:"
   ]
  },
  {
   "cell_type": "code",
   "execution_count": 10,
   "metadata": {},
   "outputs": [
    {
     "name": "stdout",
     "output_type": "stream",
     "text": [
      "4\n"
     ]
    }
   ],
   "source": [
    "print(len(approx))"
   ]
  },
  {
   "cell_type": "markdown",
   "metadata": {},
   "source": [
    "## Problem 5"
   ]
  },
  {
   "cell_type": "markdown",
   "metadata": {},
   "source": [
    "### (a)\n",
    "To find the maximum of $ c(t) $, find where $ \\frac{dc(t)}{dt} = 0 $ using Newton's method. This requires computing the first and second derivative of $ c(t) $:\n",
    "$$ c(t) = Ate^{-t/3} $$\n",
    "$$ \\frac{dc(t)}{dt} = -\\frac{A(t-3)}{3}e^{-t/3} $$\n",
    "$$ \\frac{d^2c(t)}{dt^2} = \\frac{A(t-6)}{3}e^{-t/3} $$\n",
    "\n",
    "Define $ c(t) $, $ \\frac{dc(t)}{dt} $, and $ \\frac{d^2c(t)}{dt^2} $:"
   ]
  },
  {
   "cell_type": "code",
   "execution_count": 11,
   "metadata": {},
   "outputs": [],
   "source": [
    "def c(t, A): return A*t*exp(-t/3)\n",
    "def dc(t): return -(t-3)*exp(-t/3)/3\n",
    "def d2c(t): return (t-6)*exp(-t/3)/9"
   ]
  },
  {
   "cell_type": "markdown",
   "metadata": {},
   "source": [
    "Find where $ \\frac{dc(t)}{dt} = 0 $ using Newton's method:"
   ]
  },
  {
   "cell_type": "code",
   "execution_count": 12,
   "metadata": {},
   "outputs": [
    {
     "name": "stdout",
     "output_type": "stream",
     "text": [
      "c(t) = 0 at t = 2.99\n"
     ]
    }
   ],
   "source": [
    "print('c(t) = 0 at t = ' + str(round(newton(dc, d2c, 1)[-1], 2)))"
   ]
  },
  {
   "cell_type": "markdown",
   "metadata": {},
   "source": [
    "Evaluate $ c(t) $ at $ t_{\\text{max}} $:"
   ]
  },
  {
   "cell_type": "code",
   "execution_count": 13,
   "metadata": {},
   "outputs": [
    {
     "name": "stdout",
     "output_type": "stream",
     "text": [
      "1.1036\n"
     ]
    }
   ],
   "source": [
    "print(round(c(3, 1), 4))"
   ]
  },
  {
   "cell_type": "markdown",
   "metadata": {},
   "source": [
    "For $ A=1 $, $ c(3) = 1.1036 $. So to make $ c(3) = 1 $, let $ A = \\frac{1}{1.1036} $"
   ]
  },
  {
   "cell_type": "markdown",
   "metadata": {},
   "source": [
    "### (b)\n",
    "\n",
    "To find when $ c(t) = 0.25 $, rewrite the equation as a root finding problem:\n",
    "$$ f(t) = c(t) - 0.25 = 0 $$\n",
    "\n",
    "Define $ f(t) $ and $ \\frac{df(t)}{dt} $:"
   ]
  },
  {
   "cell_type": "code",
   "execution_count": 14,
   "metadata": {},
   "outputs": [],
   "source": [
    "def f(t): return (1/1.1036)*t*exp(-t/3) - 0.25\n",
    "def df(t): return -(1/1.1036)*(t-3)*exp(-t/3)/3"
   ]
  },
  {
   "cell_type": "markdown",
   "metadata": {},
   "source": [
    "Using Newton's method, find the root of $ f(t) $:"
   ]
  },
  {
   "cell_type": "code",
   "execution_count": 15,
   "metadata": {},
   "outputs": [
    {
     "name": "stdout",
     "output_type": "stream",
     "text": [
      "f(t) = 0 at t = 0.31\n",
      "c(0.31) = 0.2533219984839756\n"
     ]
    }
   ],
   "source": [
    "root = round(newton(f, df, 1)[-1], 2)\n",
    "print('f(t) = 0 at t = ' + str(root))\n",
    "print('c(' + str(root) + ') = ' + str(c(root, 1/1.1036)))"
   ]
  },
  {
   "cell_type": "markdown",
   "metadata": {},
   "source": [
    "## Problem 6\n",
    "First define $ g(x) $ and $ \\frac{dg(x)}{dx} $:"
   ]
  },
  {
   "cell_type": "code",
   "execution_count": 16,
   "metadata": {},
   "outputs": [],
   "source": [
    "def g(x): return (x - 1)*(x + 3)\n",
    "\n",
    "def dg(x): return (x - 1) + (x + 3)"
   ]
  },
  {
   "cell_type": "markdown",
   "metadata": {},
   "source": [
    "Create an array of x samples to use as starting points for Newton's Method:"
   ]
  },
  {
   "cell_type": "code",
   "execution_count": 17,
   "metadata": {},
   "outputs": [],
   "source": [
    "x = linspace(-4, 2, 100)\n",
    "y = g(x)"
   ]
  },
  {
   "cell_type": "markdown",
   "metadata": {},
   "source": [
    "Find roots starting at each point:"
   ]
  },
  {
   "cell_type": "code",
   "execution_count": 18,
   "metadata": {},
   "outputs": [],
   "source": [
    "roots  = []\n",
    "for i in range(100):\n",
    "    approx = newton(g, dg, x[i])\n",
    "    roots.append(round(approx[-1], 2))\n",
    "\n",
    "# copy of roots array with first and last values removed\n",
    "trimmed = empty(98)\n",
    "trimmed = roots[1:-1]"
   ]
  },
  {
   "cell_type": "code",
   "execution_count": 19,
   "metadata": {},
   "outputs": [
    {
     "data": {
      "image/png": "[encoded data removed]",
      "text/plain": [
       "<Figure size 640x480 with 1 Axes>"
      ]
     },
     "metadata": {},
     "output_type": "display_data"
    }
   ],
   "source": [
    "cmap=matplotlib.colormaps['Set3']\n",
    "colors = cmap(roots)\n",
    "\n",
    "# find the first x value that led to each root\n",
    "_, root_indices = unique(trimmed, return_index=True)\n",
    "\n",
    "# correct for using trimmed roots\n",
    "root_indices += 1\n",
    "\n",
    "fig, axes = plt.subplots()\n",
    "axes.plot(x, y)\n",
    "\n",
    "# for each starting x (except endpoints)\n",
    "for i in range(1, len(roots)-1):\n",
    "\n",
    "    fill_x = [(x[i-1] + x[i])/2, (x[i] + x[i+1])/2]\n",
    "    fill_y = [(y[i-1] + y[i])/2, (y[i] + y[i+1])/2]\n",
    "\n",
    "    axes.fill_between(fill_x, fill_y, 0, color=colors[i], label=roots[i] if i in root_indices else \"\")\n",
    "\n",
    "# draw x and y axis\n",
    "axes.axvline(color='Black', lw=1)\n",
    "axes.axhline(color='Black', lw=1)\n",
    "\n",
    "axes.set_title('Basins of Convergence for g(x) = (x - 1)(x + 3)')\n",
    "axes.set_xlabel('x')\n",
    "axes.set_ylabel('y')\n",
    "axes.legend(title='Root')\n",
    "plt.show()"
   ]
  }
 ],
 "metadata": {
  "kernelspec": {
   "display_name": "Python 3.10.9 64-bit",
   "language": "python",
   "name": "python3"
  },
  "language_info": {
   "codemirror_mode": {
    "name": "ipython",
    "version": 3
   },
   "file_extension": ".py",
   "mimetype": "text/x-python",
   "name": "python",
   "nbconvert_exporter": "python",
   "pygments_lexer": "ipython3",
   "version": "3.10.9"
  },
  "orig_nbformat": 4,
  "vscode": {
   "interpreter": {
    "hash": "e7370f93d1d0cde622a1f8e1c04877d8463912d04d973331ad4851f04de6915a"
   }
  }
 },
 "nbformat": 4,
 "nbformat_minor": 2
}
