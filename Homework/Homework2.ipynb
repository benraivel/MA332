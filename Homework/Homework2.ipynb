{
 "cells": [
  {
   "cell_type": "markdown",
   "metadata": {},
   "source": [
    "# MA332 Homework 2\n",
    "Ben Raivel"
   ]
  },
  {
   "cell_type": "code",
   "execution_count": 2,
   "metadata": {},
   "outputs": [],
   "source": [
    "from numpy import abs, sqrt, linspace, pi, sin\n",
    "import matplotlib.pyplot as plt"
   ]
  },
  {
   "cell_type": "markdown",
   "metadata": {},
   "source": [
    "## Define Algorithms:"
   ]
  },
  {
   "cell_type": "markdown",
   "metadata": {},
   "source": [
    "### Fixed Point Iteration (FPI):"
   ]
  },
  {
   "cell_type": "code",
   "execution_count": 69,
   "metadata": {},
   "outputs": [],
   "source": [
    "def fpi(f, x, iter=1000, tol=1e-2):\n",
    "    ''' Finds the fixed point x* = f(x*) of function f starting at x using fixed point iteration'''\n",
    "    \n",
    "    x_n = []  # list to hold guesses\n",
    "\n",
    "    for n in range(iter):\n",
    "        x_n.append(x)\n",
    "\n",
    "        if abs(f(x) - x) < tol:  # check stopping condition\n",
    "            return x_n\n",
    "\n",
    "        x = f(x)  # update approximation\n",
    "    return x_n"
   ]
  },
  {
   "cell_type": "markdown",
   "metadata": {},
   "source": [
    "### Bisection Method:"
   ]
  },
  {
   "cell_type": "code",
   "execution_count": 72,
   "metadata": {},
   "outputs": [],
   "source": [
    "def bisection(f, a, b, iter=100, tol=1e-2):\n",
    "    ''' Finds the root of function f on [a,b] using the bisection method'''\n",
    "\n",
    "    if f(a)*f(b) > 0: raise 'No root on [a, b]'\n",
    "\n",
    "    x_n = []  # list to hold guesses\n",
    "\n",
    "    for n in range(iter):\n",
    "\n",
    "        mid = (a + b)/2  # compute approximate root (midpoint)\n",
    "        x_n.append(mid)\n",
    "\n",
    "        if abs(f(mid)) < tol: return x_n  # check stopping condition\n",
    "\n",
    "        elif f(a)*f(mid) > 0: a = mid  # check which bound to update\n",
    "\n",
    "        else: b = mid\n",
    "    return x_n"
   ]
  },
  {
   "cell_type": "markdown",
   "metadata": {},
   "source": [
    "### Newton's Method:"
   ]
  },
  {
   "cell_type": "code",
   "execution_count": null,
   "metadata": {},
   "outputs": [],
   "source": [
    "def newton(f, df, x, iter=1000, tol=1e-2):\n",
    "    ''' Finds the root of function f with derivative df using Newton's method starting at x'''\n",
    "    \n",
    "    x_n = []  # list to hold guesses\n",
    "    \n",
    "    for i in range(iter):\n",
    "        x_n.append(x)\n",
    "        \n",
    "        if f(x) < tol: return x_n  # check stopping condition\n",
    "\n",
    "        x = x - f(x)/df(x)  # update approximation\n",
    "    return x_n"
   ]
  },
  {
   "cell_type": "markdown",
   "metadata": {},
   "source": [
    "## Problem 1\n",
    "\n",
    "Starting with:\n",
    "$$ x^3 + x - 2 = 0 $$\n",
    "\n",
    "Add $ cx $ to both sides:\n",
    "$$ x^3 + x - 2 + cx = cx $$\n",
    "\n",
    "Divide the equation by $ c $ to get a function $ g(x) $ with fixed point $ g(1) = 1 $:\n",
    "$$ g(x) = \\frac{1}{c}x^3 + \\frac{c+1}{c}x - \\frac{2}{c} = x $$\n",
    "\n",
    "For fixed point problem $ g(p) = p $, fixed point iteration will converge linearly with rate $ s $, **if** $ s $ satisfies:\n",
    "$$ s \\equiv | g^\\prime(p) | < 1 $$ \n",
    "\n",
    "Compute the derivative of $ g $:\n",
    "$$ g^\\prime(x) = \\frac{3}{c}x^2 + \\frac{c+1}{c} $$\n",
    "\n",
    "Which gives $ s $:\n",
    "$$ s = | g^\\prime(1) | = | \\frac{3}{c} + \\frac{c+1}{c} | = | 1 + \\frac{4}{c} | $$\n",
    "\n",
    "Error on the $ (n + 1)^{\\text{th}} $ iteration is related to $ s $ by:\n",
    "$$ E_{n + 1} \\approx sE_n  $$"
   ]
  },
  {
   "cell_type": "markdown",
   "metadata": {},
   "source": [
    "## Problem 2"
   ]
  },
  {
   "cell_type": "markdown",
   "metadata": {},
   "source": [
    "## Problem 3"
   ]
  },
  {
   "cell_type": "markdown",
   "metadata": {},
   "source": [
    "First define $ f(x) = x^2 - 2 $:"
   ]
  },
  {
   "cell_type": "code",
   "execution_count": null,
   "metadata": {},
   "outputs": [],
   "source": [
    "def f(x): return x**2 - 2"
   ]
  },
  {
   "cell_type": "markdown",
   "metadata": {},
   "source": [
    "Create an array of test x values around the root $ f(\\sqrt{2})=0 $ to compare the convergence of the bisection method and Newton's method"
   ]
  },
  {
   "cell_type": "code",
   "execution_count": null,
   "metadata": {},
   "outputs": [],
   "source": [
    "sqrt_2 = sqrt(2)\n",
    "test_x = linspace(sqrt_2 - 1, sqrt_2 + 1, 100)"
   ]
  },
  {
   "cell_type": "markdown",
   "metadata": {},
   "source": [
    "## Problem 4"
   ]
  },
  {
   "cell_type": "markdown",
   "metadata": {},
   "source": [
    "Define $ g(x) = \\pi + \\sin(\\frac{x}{2}) $"
   ]
  },
  {
   "cell_type": "code",
   "execution_count": null,
   "metadata": {},
   "outputs": [],
   "source": [
    "def g(x): return pi + sin(x/2)"
   ]
  },
  {
   "cell_type": "markdown",
   "metadata": {},
   "source": [
    "## Problem 6.\n",
    "First define $ g(x) $ and $ \\frac{dg(x)}{dx} $:"
   ]
  },
  {
   "cell_type": "code",
   "execution_count": 10,
   "metadata": {},
   "outputs": [],
   "source": [
    "def g(x): return (x - 1)*(x + 3)\n",
    "\n",
    "def dg(x): return (x - 1) + (x + 3)"
   ]
  },
  {
   "cell_type": "code",
   "execution_count": 12,
   "metadata": {},
   "outputs": [
    {
     "data": {
      "image/png": "[encoded data removed]",
      "text/plain": [
       "<Figure size 640x480 with 1 Axes>"
      ]
     },
     "metadata": {},
     "output_type": "display_data"
    }
   ],
   "source": [
    "x = linspace(-4, 2, 100)\n",
    "y = g(x)\n",
    "\n",
    "roots  = []\n",
    "for i in range(100):\n",
    "    roots.append(newton())\n",
    "\n",
    "fig, axes = plt.subplots()\n",
    "axes.plot(x, y)\n",
    "\n",
    "axes.axvline(color='Black', lw=1)\n",
    "axes.axhline(color='Black', lw=1)\n",
    "plt.show()"
   ]
  },
  {
   "cell_type": "code",
   "execution_count": null,
   "metadata": {},
   "outputs": [],
   "source": []
  }
 ],
 "metadata": {
  "kernelspec": {
   "display_name": "Python 3.10.9 64-bit",
   "language": "python",
   "name": "python3"
  },
  "language_info": {
   "codemirror_mode": {
    "name": "ipython",
    "version": 3
   },
   "file_extension": ".py",
   "mimetype": "text/x-python",
   "name": "python",
   "nbconvert_exporter": "python",
   "pygments_lexer": "ipython3",
   "version": "3.10.9"
  },
  "orig_nbformat": 4,
  "vscode": {
   "interpreter": {
    "hash": "e7370f93d1d0cde622a1f8e1c04877d8463912d04d973331ad4851f04de6915a"
   }
  }
 },
 "nbformat": 4,
 "nbformat_minor": 2
}
