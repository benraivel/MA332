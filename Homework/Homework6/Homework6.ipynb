{
 "cells": [
  {
   "attachments": {},
   "cell_type": "markdown",
   "metadata": {},
   "source": [
    "# MA332 Homework 6\n",
    "#### *Ben Raivel*"
   ]
  },
  {
   "cell_type": "code",
   "execution_count": 1,
   "metadata": {},
   "outputs": [],
   "source": [
    "import numpy as np\n",
    "import scipy"
   ]
  },
  {
   "attachments": {},
   "cell_type": "markdown",
   "metadata": {},
   "source": [
    "Use the Jacobi method and LU-decomposition backsolve implementations from homework 5:"
   ]
  },
  {
   "cell_type": "code",
   "execution_count": 2,
   "metadata": {},
   "outputs": [],
   "source": [
    "def jacobi(A, b, x=None, tol=1e-6, precision=np.float32, verbose=False):\n",
    "    \"\"\"Approximate the solution x to Ax = b using the Jacobi method\n",
    "    \n",
    "    Parameters:\n",
    "    -----------\n",
    "    - A: (n x n) matrix\n",
    "    - b: (n x 1) vector\n",
    "    - x (optional): Initial guess\n",
    "    - tol: Forward error tolerance\n",
    "    - precision: Type of float to use. For large matrices, using 16 or\n",
    "        32 bits can be more stable/faster.\n",
    "    - verbose: Whether to print the number of iterations taken.\n",
    "    \"\"\"\n",
    "    # using 16 bit precision helps stop python from crashing\n",
    "    # particularly on Problem 4\n",
    "    if (A.dtype != precision.__name__):\n",
    "        A = A.astype(precision)\n",
    "        b = b.astype(precision)\n",
    "\n",
    "    if x is None:  # make an initial guess (zeros)\n",
    "        x = np.zeros(b.shape, dtype=precision)\n",
    "    x_prev = np.zeros(b.shape, dtype=precision)\n",
    "    \n",
    "    # get diagonal of A and its inverse\n",
    "    d = np.diag(A)\n",
    "    d_inv = (1/d)\n",
    "\n",
    "    # get D and D_inv as matrices\n",
    "    D = d*np.eye(len(A), dtype=precision)\n",
    "    D_inv = d_inv*np.eye(len(A), dtype=precision)\n",
    "\n",
    "    # find (L + U)\n",
    "    LU = A - D\n",
    "\n",
    "    iter = 0\n",
    "    error = np.inf\n",
    "\n",
    "    # iterate until error is less than tol\n",
    "    while error > tol:\n",
    "        x_prev = x\n",
    "\n",
    "        # update x\n",
    "        x = np.dot(D_inv, b - np.dot(LU, x_prev))\n",
    "        \n",
    "        # calculate forward error\n",
    "        error = np.linalg.norm(x - x_prev, ord=np.inf)\n",
    "\n",
    "        iter += 1\n",
    "\n",
    "    if verbose:\n",
    "        print(f'Found x in {iter} iterations')\n",
    "\n",
    "    return x"
   ]
  },
  {
   "cell_type": "code",
   "execution_count": 3,
   "metadata": {},
   "outputs": [],
   "source": [
    "def lu_backsolve(P, L, U, b):\n",
    "    \"\"\"Solve Ax = b given the LU-decomposition of A (PA = LU)\n",
    "    \n",
    "    Parameters:\n",
    "    -----------\n",
    "    - P: Permutation matrix, holds row-swap information\n",
    "    - L: Lower triangular component\n",
    "    - U: Upper triangular component\n",
    "    - b: (n x 1) vector\n",
    "    \"\"\"\n",
    "\n",
    "    # apply inverse permutation matrix to b\n",
    "    Pb = np.dot(P.T, b)\n",
    "\n",
    "    # arrays to hold x, y values\n",
    "    y = np.zeros(len(L))\n",
    "    x = np.zeros(len(U))\n",
    "\n",
    "    # forward substitution\n",
    "    for i in range(len(L)):\n",
    "        y[i] = (Pb[i] - np.dot(L[i, :i], y[:i]))/L[i, i]\n",
    "\n",
    "    # backward substitution\n",
    "    for i in reversed(range(len(U))):\n",
    "        x[i] = (y[i] - np.dot(U[i, i:], x[i:]))/U[i, i]\n",
    "\n",
    "    return x"
   ]
  },
  {
   "attachments": {},
   "cell_type": "markdown",
   "metadata": {},
   "source": [
    "## Problem 1.\n",
    "#### Gauss-Seidel method implementation"
   ]
  },
  {
   "cell_type": "code",
   "execution_count": 28,
   "metadata": {},
   "outputs": [],
   "source": [
    "def gauss_seidel(A, b, x=None, tol=1e-6, max_iter=300, verbose=False):\n",
    "    \"\"\"Approximate the solution x to Ax = b using the Gauss-Seidel method\n",
    "    \n",
    "    Parameters:\n",
    "    -----------\n",
    "    - A: (n x n) matrix\n",
    "    - b: (n x 1) vector\n",
    "    - x (optional): Initial approximation\n",
    "    - tol: Forward error tolerance\n",
    "    - max_iter: Maximum number of iterations\n",
    "    - verbose: Whether to print the number of iterations taken\n",
    "    \"\"\"\n",
    "    if not np.equal(*A.shape):\n",
    "        raise Exception('A must be an (n x n) matrix')\n",
    "\n",
    "    n, n = A.shape\n",
    "\n",
    "    if x is None:\n",
    "        x = np.zeros((n, 1))\n",
    "    \n",
    "    d = np.diag(A)  # diagonal elements of A\n",
    "    R = A - d*np.eye(n)  # A with 0s on the diagonal\n",
    "    \n",
    "    error = np.inf\n",
    "    iter = 0\n",
    "\n",
    "    # iterate until error is less than tol\n",
    "    while error > tol:\n",
    "\n",
    "        x_prev = np.copy(x)\n",
    "\n",
    "        # update x in place\n",
    "        for i in range(n):\n",
    "            x[i] = (b[i] - np.dot(R[i], x))/d[i]\n",
    "\n",
    "        # calculate forward error\n",
    "        error = np.linalg.norm(x - x_prev, np.inf)\n",
    "\n",
    "        iter += 1\n",
    "        if iter >= max_iter: break\n",
    "\n",
    "    if verbose:\n",
    "        print(f'Found x in {iter} iterations')\n",
    "\n",
    "    return x"
   ]
  },
  {
   "attachments": {},
   "cell_type": "markdown",
   "metadata": {},
   "source": [
    "## Problem 2."
   ]
  },
  {
   "attachments": {},
   "cell_type": "markdown",
   "metadata": {},
   "source": [
    "### (a)\n",
    "The coefficient matrix is:\n",
    "$$ A =\n",
    "\\begin{pmatrix}\n",
    "1 & 0 & -1\\\\\n",
    "-0.5 & 1 & -0.25\\\\\n",
    "1 & -0.5 & 1\n",
    "\\end{pmatrix}\n",
    "$$\n",
    "The matrix is strictly diagonally dominant because the elements on the diagonal are greater than the sum of the other elements in the row for every row in the matrix."
   ]
  },
  {
   "cell_type": "code",
   "execution_count": 29,
   "metadata": {},
   "outputs": [],
   "source": [
    "A = np.array([[1, 0, -1],\n",
    "              [-0.5, 1, -0.25],\n",
    "              [1, -0.5, 1]])\n",
    "\n",
    "b = np.array([[0.2],\n",
    "              [-1.425],\n",
    "              [2]])"
   ]
  },
  {
   "attachments": {},
   "cell_type": "markdown",
   "metadata": {},
   "source": [
    "### (b)\n",
    "The matrix form of the Jacobi method is:\n",
    "$$x^{k + 1} = -D^{-1}(L + U)x^k + D^{-1}b$$\n",
    "so \n",
    "$$T_J = -D^{-1}(L + U)$$"
   ]
  },
  {
   "cell_type": "code",
   "execution_count": 30,
   "metadata": {},
   "outputs": [],
   "source": [
    "P, L, U = scipy.linalg.lu(A)\n",
    "D_inv = (1/np.diag(A))*np.eye(len(A))\n",
    "\n",
    "Tj = -D_inv @ (L + U)"
   ]
  },
  {
   "attachments": {},
   "cell_type": "markdown",
   "metadata": {},
   "source": [
    "The matrix form of the Gauss-Seidel method is\n",
    "$$x^{k + 1} = -L^{-1}Ux^k + L^{-1}b$$\n",
    "so\n",
    "$$T_G = -L^{-1}U$$"
   ]
  },
  {
   "cell_type": "code",
   "execution_count": 31,
   "metadata": {},
   "outputs": [],
   "source": [
    "L = np.tril(A)\n",
    "U = np.triu(A, k=1)\n",
    "\n",
    "Tg = -np.linalg.inv(L) @ U"
   ]
  },
  {
   "attachments": {},
   "cell_type": "markdown",
   "metadata": {},
   "source": [
    "The spectral radius is the maximum absolute eigenvalue of $T$"
   ]
  },
  {
   "cell_type": "code",
   "execution_count": 32,
   "metadata": {},
   "outputs": [
    {
     "name": "stdout",
     "output_type": "stream",
     "text": [
      "Spectral radii:\n",
      "T_J = 2.588246843315691\n",
      "T_G = 0.625\n"
     ]
    }
   ],
   "source": [
    "sr_Tj = np.max(np.abs(np.linalg.eigvals(Tj)))\n",
    "sr_Tg = np.max(np.abs(np.linalg.eigvals(Tg)))\n",
    "\n",
    "print(f'Spectral radii:\\nT_J = {sr_Tj}\\nT_G = {sr_Tg}')"
   ]
  },
  {
   "attachments": {},
   "cell_type": "markdown",
   "metadata": {},
   "source": [
    "### (c) Jacobi method"
   ]
  },
  {
   "cell_type": "code",
   "execution_count": 33,
   "metadata": {},
   "outputs": [
    {
     "name": "stdout",
     "output_type": "stream",
     "text": [
      "Found x in 187 iterations\n",
      "[[ 0.9022264 ]\n",
      " [-0.79595244]\n",
      " [ 0.69281316]]\n"
     ]
    }
   ],
   "source": [
    "x_j = jacobi(A, b, tol=1e-2, verbose=True)\n",
    "print(x_j)"
   ]
  },
  {
   "attachments": {},
   "cell_type": "markdown",
   "metadata": {},
   "source": [
    "### (d) Gauss-Seidel method"
   ]
  },
  {
   "cell_type": "code",
   "execution_count": 34,
   "metadata": {},
   "outputs": [
    {
     "name": "stdout",
     "output_type": "stream",
     "text": [
      "Found x in 13 iterations\n",
      "[[ 0.8975131 ]\n",
      " [-0.80186517]\n",
      " [ 0.70155431]]\n"
     ]
    }
   ],
   "source": [
    "x_g = gauss_seidel(A, b, tol=1e-2, verbose=True)\n",
    "print(x_g)"
   ]
  },
  {
   "attachments": {},
   "cell_type": "markdown",
   "metadata": {},
   "source": [
    "### (e)\n",
    "The number of iterations taken by the Jacobi and Gauss-Seidel methods aligns with the spectral radii of $T_J$ and $T_G$. The matrix for the Gauss-Seidel method had a spectral radius of $0.625$ (less than one) and the method converges quickly, finishing in $13$ iterations. The matrix for the Jacobi method had a spectral radius $\\sim 2.59$ (greater than one) and takes considerably longer— $187$ iterations— to complete."
   ]
  },
  {
   "attachments": {},
   "cell_type": "markdown",
   "metadata": {},
   "source": [
    "## Problem 3."
   ]
  },
  {
   "attachments": {},
   "cell_type": "markdown",
   "metadata": {},
   "source": [
    "Define A and b with $n = 100$ and $n = 10,000$:"
   ]
  },
  {
   "cell_type": "code",
   "execution_count": 11,
   "metadata": {},
   "outputs": [],
   "source": [
    "A_1e2 = (np.diag(3*np.ones(int(1e2)))\n",
    "         + np.diag(-np.ones(int(1e2 - 1)), -1)\n",
    "         + np.diag(-np.ones(int(1e2 - 1)), 1))\n",
    "\n",
    "b_1e2 = np.ones(int(1e2))\n",
    "b_1e2[0] += 1\n",
    "b_1e2[-1] += 1\n",
    "\n",
    "A_1e4 = (np.diag(3*np.ones(int(1e4)))\n",
    "         + np.diag(-np.ones(int(1e4 - 1)), -1)\n",
    "         + np.diag(-np.ones(int(1e4 - 1)), 1))\n",
    "\n",
    "b_1e4 = np.ones(int(1e4))\n",
    "b_1e4[0] += 1\n",
    "b_1e4[-1] += 1"
   ]
  },
  {
   "attachments": {},
   "cell_type": "markdown",
   "metadata": {},
   "source": [
    "### (a) Jacobi method"
   ]
  },
  {
   "attachments": {},
   "cell_type": "markdown",
   "metadata": {},
   "source": [
    "Jacobi method with $n = 100$"
   ]
  },
  {
   "cell_type": "code",
   "execution_count": 12,
   "metadata": {},
   "outputs": [
    {
     "name": "stdout",
     "output_type": "stream",
     "text": [
      "Found x in 33 iterations\n",
      "Backward error: 1.5e-06\n"
     ]
    }
   ],
   "source": [
    "x_1e2 = jacobi(A_1e2, b_1e2, verbose=True)\n",
    "\n",
    "backward_error = np.linalg.norm(b_1e2 - np.dot(A_1e2, x_1e2), np.inf)\n",
    "print(f'Backward error: {backward_error:{6}.{2}}')"
   ]
  },
  {
   "attachments": {},
   "cell_type": "markdown",
   "metadata": {},
   "source": [
    "Jacobi method with $n = 10,000$"
   ]
  },
  {
   "cell_type": "code",
   "execution_count": 13,
   "metadata": {},
   "outputs": [
    {
     "name": "stdout",
     "output_type": "stream",
     "text": [
      "Found x in 33 iterations\n",
      "Backward error: 1.5e-06\n"
     ]
    }
   ],
   "source": [
    "x_1e4 = jacobi(A_1e4, b_1e4, verbose=True)\n",
    "\n",
    "backward_error = np.linalg.norm(b_1e4 - np.dot(A_1e4, x_1e4), np.inf)\n",
    "print(f'Backward error: {backward_error:{6}.{2}}')"
   ]
  },
  {
   "attachments": {},
   "cell_type": "markdown",
   "metadata": {},
   "source": [
    "### (b) Gauss-Seidel method"
   ]
  },
  {
   "attachments": {},
   "cell_type": "markdown",
   "metadata": {},
   "source": [
    "Gauss-Seidel method with $n = 100$"
   ]
  },
  {
   "cell_type": "code",
   "execution_count": 14,
   "metadata": {},
   "outputs": [
    {
     "name": "stdout",
     "output_type": "stream",
     "text": [
      "Found x in 20 iterations\n",
      "Backward error: 9.6e-07\n"
     ]
    }
   ],
   "source": [
    "x_1e2 = gauss_seidel(A_1e2, b_1e2, verbose=True)\n",
    "\n",
    "backward_error = np.linalg.norm(b_1e2 - np.dot(A_1e2, x_1e2), np.inf)\n",
    "print(f'Backward error: {backward_error:{6}.{2}}')"
   ]
  },
  {
   "attachments": {},
   "cell_type": "markdown",
   "metadata": {},
   "source": [
    "Gauss-Seidel method with $n = 10,000$"
   ]
  },
  {
   "cell_type": "code",
   "execution_count": 15,
   "metadata": {},
   "outputs": [
    {
     "name": "stdout",
     "output_type": "stream",
     "text": [
      "Found x in 20 iterations\n",
      "Backward error: 9.6e-07\n"
     ]
    }
   ],
   "source": [
    "x_1e4 = gauss_seidel(A_1e4, b_1e4, verbose=True)\n",
    "\n",
    "backward_error = np.linalg.norm(b_1e4 - np.dot(A_1e4, x_1e4), np.inf)\n",
    "print(f'Backward error: {backward_error:{6}.{2}}')"
   ]
  },
  {
   "attachments": {},
   "cell_type": "markdown",
   "metadata": {},
   "source": [
    "### (c) L-U decomposition and backsolve"
   ]
  },
  {
   "attachments": {},
   "cell_type": "markdown",
   "metadata": {},
   "source": [
    "LU-decomposition with $n = 100$"
   ]
  },
  {
   "cell_type": "code",
   "execution_count": 16,
   "metadata": {},
   "outputs": [
    {
     "name": "stdout",
     "output_type": "stream",
     "text": [
      "Backward error: 8.9e-16\n"
     ]
    }
   ],
   "source": [
    "P_1e2, L_1e2, U_1e2 = scipy.linalg.lu(A_1e2)\n",
    "x_1e2 = lu_backsolve(P_1e2, L_1e2, U_1e2, b_1e2)\n",
    "\n",
    "backward_error = np.linalg.norm(b_1e2 - np.dot(A_1e2, x_1e2), np.inf)\n",
    "print(f'Backward error: {backward_error:{6}.{2}}')"
   ]
  },
  {
   "attachments": {},
   "cell_type": "markdown",
   "metadata": {},
   "source": [
    "LU-decomposition with $n = 10,000$"
   ]
  },
  {
   "cell_type": "code",
   "execution_count": 17,
   "metadata": {},
   "outputs": [
    {
     "name": "stdout",
     "output_type": "stream",
     "text": [
      "Backward error: 8.9e-16\n"
     ]
    }
   ],
   "source": [
    "P_1e4, L_1e4, U_1e4 = scipy.linalg.lu(A_1e4)\n",
    "x_1e4 = lu_backsolve(P_1e4, L_1e4, U_1e4, b_1e4)\n",
    "\n",
    "backward_error = np.linalg.norm(b_1e4 - np.dot(A_1e4, x_1e4), np.inf)\n",
    "print(f'Backward error: {backward_error:{6}.{2}}')"
   ]
  },
  {
   "attachments": {},
   "cell_type": "markdown",
   "metadata": {},
   "source": [
    "## Problem 4."
   ]
  },
  {
   "attachments": {},
   "cell_type": "markdown",
   "metadata": {},
   "source": [
    "Linear system in matrix form:\n",
    "$$\n",
    "\\begin{pmatrix}\n",
    "1 & 1\\\\\n",
    "1.0001 & 1\n",
    "\\end{pmatrix}\n",
    "\\begin{pmatrix}\n",
    "x_1\\\\\n",
    "x_2\n",
    "\\end{pmatrix} =\n",
    "\\begin{pmatrix}\n",
    "2\\\\\n",
    "2.0001\n",
    "\\end{pmatrix}\n",
    "$$\n",
    "\n",
    "In Python:"
   ]
  },
  {
   "cell_type": "code",
   "execution_count": 18,
   "metadata": {},
   "outputs": [],
   "source": [
    "A = np.array([[1, 1],\n",
    "              [1.0001, 1]])\n",
    "\n",
    "b = np.array([[2],\n",
    "              [2.0001]])\n",
    "\n",
    "x_actual = np.array([[1],\n",
    "                     [1]])"
   ]
  },
  {
   "attachments": {},
   "cell_type": "markdown",
   "metadata": {},
   "source": [
    "### (a)"
   ]
  },
  {
   "attachments": {},
   "cell_type": "markdown",
   "metadata": {},
   "source": [
    "Compute forward error:"
   ]
  },
  {
   "cell_type": "code",
   "execution_count": 19,
   "metadata": {},
   "outputs": [
    {
     "name": "stdout",
     "output_type": "stream",
     "text": [
      "Forward error: 1.0\n"
     ]
    }
   ],
   "source": [
    "x_approx = np.array([[2],\n",
    "                     [2]])\n",
    "\n",
    "forward_error  = np.linalg.norm(x_actual - x_approx, np.inf)\n",
    "print(f'Forward error: {forward_error}')"
   ]
  },
  {
   "attachments": {},
   "cell_type": "markdown",
   "metadata": {},
   "source": [
    "Compute backward error:"
   ]
  },
  {
   "cell_type": "code",
   "execution_count": 20,
   "metadata": {},
   "outputs": [
    {
     "name": "stdout",
     "output_type": "stream",
     "text": [
      "Backward error: 2.0000999999999993\n"
     ]
    }
   ],
   "source": [
    "backward_error = np.linalg.norm(b - A @ x_approx, np.inf)\n",
    "print(f'Backward error: {backward_error}')"
   ]
  },
  {
   "attachments": {},
   "cell_type": "markdown",
   "metadata": {},
   "source": [
    "Compute error magnification factor:"
   ]
  },
  {
   "cell_type": "code",
   "execution_count": 21,
   "metadata": {},
   "outputs": [
    {
     "name": "stdout",
     "output_type": "stream",
     "text": [
      "Error magnification factor: 1.0000000000000004\n"
     ]
    }
   ],
   "source": [
    "rel_forward_error = forward_error/np.linalg.norm(x_actual, np.inf)\n",
    "rel_backward_error = backward_error/np.linalg.norm(b, np.inf)\n",
    "error_mag = rel_forward_error/rel_backward_error\n",
    "\n",
    "print(f'Error magnification factor: {error_mag}')"
   ]
  },
  {
   "attachments": {},
   "cell_type": "markdown",
   "metadata": {},
   "source": [
    "### (b)"
   ]
  },
  {
   "attachments": {},
   "cell_type": "markdown",
   "metadata": {},
   "source": [
    "The condition number $\\kappa(A)$ is given by:\n",
    "\n",
    "$$\n",
    "\\kappa(A) = \\frac{\\text{max}(\\text{abs}(\\text{eig}(A)))}{\\text{min}(\\text{abs}(\\text{eig}(A)))}\n",
    "$$"
   ]
  },
  {
   "cell_type": "code",
   "execution_count": 27,
   "metadata": {},
   "outputs": [
    {
     "name": "stdout",
     "output_type": "stream",
     "text": [
      "Condition number of A: 40002.0\n"
     ]
    }
   ],
   "source": [
    "condition_A = np.max(np.abs(np.linalg.eigvals(A)))/np.min(np.abs(np.linalg.eigvals(A)))\n",
    "\n",
    "print(f'Condition number of A: {condition_A:{7}.{7}}')"
   ]
  }
 ],
 "metadata": {
  "kernelspec": {
   "display_name": "Python 3",
   "language": "python",
   "name": "python3"
  },
  "language_info": {
   "codemirror_mode": {
    "name": "ipython",
    "version": 3
   },
   "file_extension": ".py",
   "mimetype": "text/x-python",
   "name": "python",
   "nbconvert_exporter": "python",
   "pygments_lexer": "ipython3",
   "version": "3.10.10"
  },
  "orig_nbformat": 4
 },
 "nbformat": 4,
 "nbformat_minor": 2
}
