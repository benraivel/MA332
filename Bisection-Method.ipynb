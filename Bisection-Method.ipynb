{
 "cells": [
  {
   "cell_type": "markdown",
   "id": "9f0f06cc",
   "metadata": {},
   "source": [
    "## Bisection Method"
   ]
  },
  {
   "cell_type": "code",
   "execution_count": 1,
   "id": "db25bd84",
   "metadata": {},
   "outputs": [],
   "source": [
    "import numpy as np\n",
    "\n",
    "# Bisection Method function\n",
    "def Bisection(f, a, b, tol):\n",
    "    # Input:\n",
    "    # f is a Python function\n",
    "    # a,b are lower and upper bounds of the interval\n",
    "    # tol is the stopping tolerance for the accuracy of the root: |f(m)| < tol\n",
    "    \n",
    "    # check that f(a) and f(b) have different signs\n",
    "    if f(a)*f(b) > 0:\n",
    "        raise Exception(\"Error: No root between a and b\") # Raise an exception\n",
    "    \n",
    "    # Compute the midpoint m between a and b\n",
    "    m = (a + b)/2\n",
    "    \n",
    "    # While loop to implement the steps of the bisection method\n",
    "    # Continue iterating the loop as long as |f(m)| > tol\n",
    "    while np.abs(f(m)) > tol: \n",
    "       \n",
    "        if f(m)*f(a)< 0: # f(m) and f(a) have different signs\n",
    "            b = m\n",
    "            \n",
    "        else:\n",
    "            a = m\n",
    "    \n",
    "        m = (a+b)/2\n",
    "    \n",
    "    # Return the midpoint of the last interval as the best approximation of the root\n",
    "    return m"
   ]
  },
  {
   "cell_type": "markdown",
   "id": "e99019b0",
   "metadata": {},
   "source": [
    "Use the Bisection function to approximate the root of $f(x) = x^2 - 2$ on $x \\in [0,2]$ with various tolerances. \n",
    "\n",
    "**Exercise 1:** Check that the accuracy of the approximation falls within the given tolerance."
   ]
  },
  {
   "cell_type": "code",
   "execution_count": 3,
   "id": "3b67ca61",
   "metadata": {},
   "outputs": [
    {
     "name": "stdout",
     "output_type": "stream",
     "text": [
      "Approximate root is:  1.4375\n",
      "predicted root falls within tolerance\n"
     ]
    }
   ],
   "source": [
    "# Define f(x) as a lambda function\n",
    "f = lambda x: x**2 - 2 \n",
    "\n",
    "# Call the bisection method: r gives approximate root\n",
    "r = Bisection(f,0,2,0.1)\n",
    "print(\"Approximate root is: \", r)\n",
    "\n",
    "\n",
    "# Check that the accuracy of the root falls within the defined tolerance\n",
    "if np.abs(f(r)) < 0.1:\n",
    "    print('predicted root falls within tolerance')\n",
    "\n",
    "else:\n",
    "    print('predicted root does not fall within tolerance')\n",
    "\n"
   ]
  },
  {
   "cell_type": "markdown",
   "id": "0bfde81f",
   "metadata": {},
   "source": [
    "__Exercise 2:__ Define the *absolute error* by  $E_n = |x_n - x_*|$. We found that after $n$ iterations of the Bisection method starting with endpoints $a$ and $b$ guarantees\n",
    "$$\n",
    "E_n = |x_n - x_*| \\leq 2^{-n}(b-a).\n",
    "$$\n",
    "Given $\\epsilon>0$, determine the minimum number of iterations $N$ necessary to guarantee $E_N < \\epsilon$. This value of $N$ represents the optimal number of steps in the Bisection method and will depend on $a, b$.\n",
    "\n",
    "Create a new version of the Bisection Method code that instead uses a for-loop that takes the optimal number of steps $N$ to stop."
   ]
  },
  {
   "cell_type": "code",
   "execution_count": 12,
   "id": "081f6004",
   "metadata": {},
   "outputs": [
    {
     "name": "stdout",
     "output_type": "stream",
     "text": [
      "5\n",
      "0.06640625\n"
     ]
    }
   ],
   "source": [
    "def forBisection(f, a, b, tol):\n",
    "    \n",
    "    if f(a)*f(b) > 0:\n",
    "        raise Exception('no root on interval')\n",
    "\n",
    "    n = int(np.ceil(-np.log2(tol/(b-a))))\n",
    "\n",
    "    print(n)\n",
    "\n",
    "    for i in range(n):\n",
    "        \n",
    "        m = (a+b)/2\n",
    "\n",
    "        if f(a)*f(m) > 0:\n",
    "            a = m\n",
    "\n",
    "        else:\n",
    "            b = m\n",
    "\n",
    "    return m\n",
    "\n",
    "prediction = forBisection(f, 0, 2, 0.1)\n",
    "print(f(prediction))\n"
   ]
  },
  {
   "cell_type": "markdown",
   "id": "20d1f5a3",
   "metadata": {},
   "source": [
    "**Exercise 3:** Add some lines to the while-loop Bisection function to ensure the while-loop doesn't run away (continue forever). \n"
   ]
  },
  {
   "cell_type": "code",
   "execution_count": 9,
   "id": "6a715bf3",
   "metadata": {},
   "outputs": [],
   "source": [
    "# Bisection Method function\n",
    "def haltingBisection(f, a, b, tol):\n",
    "    # Input:\n",
    "    # f is a Python function\n",
    "    # a,b are lower and upper bounds of the interval\n",
    "    # tol is the stopping tolerance for the accuracy of the root: |f(m)| < tol\n",
    "        \n",
    "    # check that f(a) and f(b) have different signs\n",
    "    if f(a)*f(b) > 0:\n",
    "        raise Exception(\"Error: No root between a and b\") # Raise an exception\n",
    "\n",
    "    n = np.ceil(-np.log2(tol/(b-a)))\n",
    "    \n",
    "    # Compute the midpoint m between a and b\n",
    "    m = (a + b)/2\n",
    "    \n",
    "    i = 0\n",
    "    # While loop to implement the steps of the bisection method\n",
    "    # Continue iterating the loop as long as |f(m)| > tol\n",
    "    while np.abs(f(m)) > tol: \n",
    "       \n",
    "        if f(m)*f(a)< 0: # f(m) and f(a) have different signs\n",
    "            b = m\n",
    "            \n",
    "        else:\n",
    "            a = m\n",
    "    \n",
    "        m = (a+b)/2\n",
    "\n",
    "        if i > n:\n",
    "            break\n",
    "\n",
    "        i+=1\n",
    "    \n",
    "    # Return the midpoint of the last interval as the best approximation of the root\n",
    "    return m"
   ]
  },
  {
   "cell_type": "markdown",
   "id": "68395043",
   "metadata": {},
   "source": [
    "**Exercise 4:** Add some lines to the Bisection function to define a default tolerance to be used if the user doesn't input a tolerance.\n"
   ]
  },
  {
   "cell_type": "code",
   "execution_count": 10,
   "id": "4e257d5f",
   "metadata": {},
   "outputs": [],
   "source": [
    "# Bisection Method function\n",
    "def haltingBisection2(f, a, b, tol=0.1):\n",
    "    # Input:\n",
    "    # f is a Python function\n",
    "    # a,b are lower and upper bounds of the interval\n",
    "    # tol is the stopping tolerance for the accuracy of the root: |f(m)| < tol\n",
    "        \n",
    "    # check that f(a) and f(b) have different signs\n",
    "    if f(a)*f(b) > 0:\n",
    "        raise Exception(\"Error: No root between a and b\") # Raise an exception\n",
    "\n",
    "    n = np.ceil(-np.log2(tol/(b-a)))\n",
    "    \n",
    "    # Compute the midpoint m between a and b\n",
    "    m = (a + b)/2\n",
    "    \n",
    "    i = 0\n",
    "    # While loop to implement the steps of the bisection method\n",
    "    # Continue iterating the loop as long as |f(m)| > tol\n",
    "    while np.abs(f(m)) > tol: \n",
    "       \n",
    "        if f(m)*f(a)< 0: # f(m) and f(a) have different signs\n",
    "            b = m\n",
    "            \n",
    "        else:\n",
    "            a = m\n",
    "    \n",
    "        m = (a+b)/2\n",
    "\n",
    "        if i > n:\n",
    "            break\n",
    "\n",
    "        i+=1\n",
    "    \n",
    "    # Return the midpoint of the last interval as the best approximation of the root\n",
    "    return m"
   ]
  }
 ],
 "metadata": {
  "kernelspec": {
   "display_name": "Python 3.10.9 64-bit",
   "language": "python",
   "name": "python3"
  },
  "language_info": {
   "codemirror_mode": {
    "name": "ipython",
    "version": 3
   },
   "file_extension": ".py",
   "mimetype": "text/x-python",
   "name": "python",
   "nbconvert_exporter": "python",
   "pygments_lexer": "ipython3",
   "version": "3.10.9"
  },
  "vscode": {
   "interpreter": {
    "hash": "e7370f93d1d0cde622a1f8e1c04877d8463912d04d973331ad4851f04de6915a"
   }
  }
 },
 "nbformat": 4,
 "nbformat_minor": 5
}
