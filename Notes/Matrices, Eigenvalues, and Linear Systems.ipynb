{
 "cells": [
  {
   "cell_type": "code",
   "execution_count": 1,
   "id": "58aaaaea",
   "metadata": {},
   "outputs": [],
   "source": [
    "import numpy as np\n",
    "from numpy import linalg as LA"
   ]
  },
  {
   "cell_type": "markdown",
   "id": "c05bdb56",
   "metadata": {},
   "source": [
    "## NumPy Matrices\n",
    "\n",
    "\n",
    "Matrices can be created by making a 2D numpy array or using built-in functions.\n",
    "- `np.ones(n)`: creates an nxn matrix of all ones\n",
    "- `np.eye(n)`: creates an nxn identity matrix\n",
    "- `A = np.array([ [1,2],[3,4] ])`: creates a 'matrix' \n",
    "\n",
    "Documentation for NumPy array creation routines: https://numpy.org/doc/stable/reference/routines.array-creation.html\n",
    "\n",
    "**Exercise:** Run the following code. What do you notice about $A$ and $B$?\n"
   ]
  },
  {
   "cell_type": "code",
   "execution_count": 3,
   "id": "28b42f21",
   "metadata": {},
   "outputs": [
    {
     "name": "stdout",
     "output_type": "stream",
     "text": [
      "[1. 1. 1. 1. 1.]\n",
      "A= [[2. 1. 1. 1. 1.]\n",
      " [1. 2. 1. 1. 1.]\n",
      " [1. 1. 2. 1. 1.]\n",
      " [1. 1. 1. 2. 1.]\n",
      " [1. 1. 1. 1. 2.]]\n",
      "B= [[2. 0. 0. 0. 0.]\n",
      " [0. 2. 0. 0. 0.]\n",
      " [0. 0. 2. 0. 0.]\n",
      " [0. 0. 0. 2. 0.]\n",
      " [0. 0. 0. 0. 2.]]\n"
     ]
    }
   ],
   "source": [
    "A = np.ones(5) + np.eye(5)\n",
    "print(\"A=\",A)\n",
    "\n",
    "I = np.eye(5)\n",
    "B = A*I\n",
    "\n",
    "print(\"B=\",B)"
   ]
  },
  {
   "cell_type": "markdown",
   "id": "918c4779",
   "metadata": {},
   "source": [
    "Many matrix-vector operations act like linear algebra, but some do not. In the following code, what do you expect C1 and C2 to be?"
   ]
  },
  {
   "cell_type": "code",
   "execution_count": 8,
   "id": "f2cb08db",
   "metadata": {},
   "outputs": [],
   "source": [
    "# Create an array v of length 5\n",
    "v = np.array([1,2,3,4,5])\n",
    "\n",
    "# Multiply A and v\n",
    "C1 = A*v\n",
    "C2 = A + v\n",
    "\n"
   ]
  },
  {
   "cell_type": "markdown",
   "id": "4a3961e6",
   "metadata": {},
   "source": [
    "**Matrix multiplication** can be done using the `@` operator. i.e., `M = A*B` for appropriately sized np arrays $A$ and $B$."
   ]
  },
  {
   "cell_type": "code",
   "execution_count": 10,
   "id": "ef2f96fe",
   "metadata": {},
   "outputs": [],
   "source": [
    "# Try matrix multiplication!"
   ]
  },
  {
   "cell_type": "markdown",
   "id": "beb4f1bb",
   "metadata": {},
   "source": [
    "## Linear Algebra Routines\n",
    "\n",
    "`numpy.linalg` gives helpful linear algebra routines. For example:\n",
    "- `LA.norm(A,2)`: $\\ell_2$ matrix/vector norm https://numpy.org/doc/stable/reference/generated/numpy.linalg.norm.html\n",
    "- `LA.norm(A,np.inf)`: $\\ell_{\\infty}$ matrix/vector norm \n",
    "- `w,v = LA.eig(A)`: eigenvalues (w) and eigenvectors (v) of the matrix https://numpy.org/doc/stable/reference/generated/numpy.linalg.eig.html\n",
    "\n",
    "\n",
    "Additional helpful commands:\n",
    "- `np.transpose(A)`: transpose of matrix A\n",
    "- `np.diag(A)`: Extracts the diagonal of the matrix A (See other uses here https://numpy.org/doc/stable/reference/generated/numpy.diag.html)\n",
    "\n",
    "\n",
    "More information and routines can be found on the documentation: https://numpy.org/doc/stable/reference/routines.linalg.html\n",
    "\n",
    "**Exercise:** Find the eigenvalues and $\\ell_2$-norm of the following matrices. Check that \n",
    "$$\n",
    "\\|A\\|_2 = \\left[\\rho\\left( A^t A\\right)\\right]^{1/2}.\n",
    "$$"
   ]
  },
  {
   "cell_type": "code",
   "execution_count": 22,
   "id": "69b57c80",
   "metadata": {},
   "outputs": [],
   "source": [
    "A1 = np.array([[2,1,0],\n",
    "             [1,2,0],\n",
    "             [0,0,3]])\n",
    "\n",
    "l2_norm = LA.norm(A1, 2)\n",
    "\n",
    "assert np.isclose(l2_norm, np.max((LA.eigvals(A1.T@A1))**0.5, axis=0))"
   ]
  },
  {
   "cell_type": "code",
   "execution_count": 23,
   "id": "ddec86d4",
   "metadata": {},
   "outputs": [],
   "source": [
    "A2 = np.array([[-1,2,0],\n",
    "             [0,3,4],\n",
    "             [0,0,7]])\n",
    "\n",
    "l2_norm = LA.norm(A2, 2)\n",
    "\n",
    "assert np.isclose(l2_norm, np.max((LA.eigvals(A2.T@A2))**0.5, axis=0))"
   ]
  },
  {
   "cell_type": "markdown",
   "id": "ee2cc990",
   "metadata": {},
   "source": [
    "## Convergent Matrices"
   ]
  },
  {
   "cell_type": "markdown",
   "id": "5ad9d4d1",
   "metadata": {},
   "source": [
    "**Definition:** A matrix $A \\in \\mathbb{R}^{n\\times n}$ is said to be _convergent_ if \n",
    "$$\n",
    "\\lim_{k \\rightarrow \\infty} \\left( A^k\\right)_{i,j} = 0 \\qquad \\forall \\ i,j = 1, \\dots, n.\n",
    "$$\n",
    "\n",
    "**Exercise:** Check if the following matrices are convergent by (1) multiplying the matrices many times, and (2) computing the spectral radius.\n",
    "$$\n",
    "A = \\begin{pmatrix} \\frac{1}{2} & 0 \\\\ 16 & \\frac{1}{2} \\end{pmatrix}, \\qquad B = \\begin{pmatrix} 1 & 0 \\\\ \\frac{1}{4} & \\frac{1}{2} \\end{pmatrix}. \n",
    "$$"
   ]
  },
  {
   "cell_type": "code",
   "execution_count": 35,
   "id": "50153e77",
   "metadata": {},
   "outputs": [
    {
     "name": "stdout",
     "output_type": "stream",
     "text": [
      "[[0. 0.]\n",
      " [0. 0.]]\n"
     ]
    }
   ],
   "source": [
    "A = np.array([[0.5, 0], [16, 0.5]])\n",
    "\n",
    "print(np.round(LA.matrix_power(A, 100), 3))"
   ]
  },
  {
   "cell_type": "code",
   "execution_count": 36,
   "id": "65f5fc82",
   "metadata": {},
   "outputs": [
    {
     "name": "stdout",
     "output_type": "stream",
     "text": [
      "[[1.  0. ]\n",
      " [0.5 0. ]]\n"
     ]
    }
   ],
   "source": [
    "B = np.array([[1, 0], [0.25, 0.5]])\n",
    "\n",
    "print(np.round(LA.matrix_power(B, 100), 3))"
   ]
  }
 ],
 "metadata": {
  "kernelspec": {
   "display_name": "Python 3 (ipykernel)",
   "language": "python",
   "name": "python3"
  },
  "language_info": {
   "codemirror_mode": {
    "name": "ipython",
    "version": 3
   },
   "file_extension": ".py",
   "mimetype": "text/x-python",
   "name": "python",
   "nbconvert_exporter": "python",
   "pygments_lexer": "ipython3",
   "version": "3.10.10"
  }
 },
 "nbformat": 4,
 "nbformat_minor": 5
}
