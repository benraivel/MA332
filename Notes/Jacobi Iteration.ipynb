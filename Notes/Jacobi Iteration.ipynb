{
 "cells": [
  {
   "cell_type": "code",
   "execution_count": 1,
   "id": "42f98d1d",
   "metadata": {},
   "outputs": [],
   "source": [
    "import numpy as np\n",
    "from numpy import linalg as LA"
   ]
  },
  {
   "cell_type": "markdown",
   "id": "c40b67dc",
   "metadata": {},
   "source": [
    "## Jacobi Iteration\n",
    "\n",
    "The Jacobi Method is an iterative method for solving linear systems $A\\mathbf{x}=\\mathbf{b}$. Writing $A = L+D+U$, the iterative scheme is given by \n",
    "$$\n",
    "\\mathbf{x}^{(k)} = -D^{-1} \\left( L+U \\right) \\mathbf{x}^{(k)} + D^{-1} \\mathbf{b}.\n",
    "$$.\n",
    "\n",
    "**Exercise:** Complete the following function that performs the Jacobi iteration method to approximates the solution $\\mathbf{x}$ to a given system $A\\mathbf{x} = \\mathbf{b}$."
   ]
  },
  {
   "cell_type": "code",
   "execution_count": null,
   "id": "fe0b6ff6",
   "metadata": {},
   "outputs": [],
   "source": [
    "def JacobiMethod(A,b,x=None,tol=None):\n",
    "    '''\n",
    "    Perform iterations of Jacobi Method to approximate solution of the linear system Ax=b\n",
    "    Input: A,b matrix and vector that define the linear system\n",
    "    x: initial guess for solution\n",
    "    tol: tolerance for stopping condition\n",
    "    '''\n",
    "    \n",
    "    if tol==None:\n",
    "        tol = 1e-6\n",
    "    \n",
    "    if x==None:\n",
    "        x = np.zeros(b.size)\n",
    "        \n",
    "        \n",
    "    # Split matrix A: A = L + D + U    \n",
    "        \n",
    "    # Perform steps of the Jacobi Method\n",
    "        \n",
    "    \n",
    "    # Stopping condition\n",
    "        \n",
    "        \n",
    "    return x    "
   ]
  },
  {
   "cell_type": "markdown",
   "id": "a436b4e2",
   "metadata": {},
   "source": [
    "Consider the following linear system: \n",
    "$$\n",
    "x_1 + 2x_2 - 2x_3 = 7\\\\\n",
    "x_1 + x_2 + x_3 = 2\\\\\n",
    "2x_1 + 2x_2 + x_3 = 5.\n",
    "$$\n",
    "\n",
    "1. How many iterations are needed to get a tolerance of $1e-5$ in the $\\ell_{\\infty}$-norm? Use $\\mathbf{x}^{(0)}$ as a starting condition.\n",
    "2. The system has solution $\\mathbf{x} = (1,2,-1)^t$. How close (in the $\\ell_{\\infty}$ sense) is each iteration to this solution?\n",
    "\n"
   ]
  },
  {
   "cell_type": "code",
   "execution_count": null,
   "id": "d2178623",
   "metadata": {},
   "outputs": [],
   "source": []
  }
 ],
 "metadata": {
  "kernelspec": {
   "display_name": "Python 3 (ipykernel)",
   "language": "python",
   "name": "python3"
  },
  "language_info": {
   "codemirror_mode": {
    "name": "ipython",
    "version": 3
   },
   "file_extension": ".py",
   "mimetype": "text/x-python",
   "name": "python",
   "nbconvert_exporter": "python",
   "pygments_lexer": "ipython3",
   "version": "3.10.8"
  }
 },
 "nbformat": 4,
 "nbformat_minor": 5
}
