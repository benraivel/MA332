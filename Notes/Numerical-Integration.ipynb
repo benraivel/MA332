{
 "cells": [
  {
   "cell_type": "code",
   "execution_count": 2,
   "id": "a3ae9d53",
   "metadata": {},
   "outputs": [],
   "source": [
    "import numpy as np\n",
    "import matplotlib.pyplot as plt"
   ]
  },
  {
   "cell_type": "markdown",
   "id": "a23df542",
   "metadata": {},
   "source": [
    "# Closed Newton-Cotes Formulas\n",
    "\n",
    "### Trapezoid Rule\n",
    "\n",
    "Split the interval $[a,b]$ into $n$ evenly spaced intervals with endpoints\n",
    "$$\n",
    "a = x_0 < x_1 < x_2 < \\cdots < x_n = b , \\qquad h = x_{k+1} - x_k.\n",
    "$$\n",
    "Then, assuming $f \\in C^2[a,b]$, there exists some $c \\in[a,b]$ such that\n",
    "$$\n",
    "\\int_a^b f(x) dx = \\frac{h}{2} \\left[ f(a) + f(b) + 2 \\sum_{k=1}^{n-1} f(x_k) \\right] - \\frac{h^2(b-a)}{12} f''(c).\n",
    "$$\n",
    "\n",
    "#### Simpson's Rule\n",
    "Split the interval $[a,b]$ into $2m$ evenly spaced intervals with endpoints\n",
    "$$\n",
    "a = x_0 < x_1 < x_2 < \\cdots < x_{2m-1} < x_{2m} = b , \\qquad h = x_{k+1} - x_k.\n",
    "$$\n",
    "Then, assuming $f \\in C^4[a,b]$, there exists some $c \\in[a,b]$ such that\n",
    "\n",
    "$$\n",
    "\\int_a^b f(x) \\ dx = \\frac{h}{3} \\left[ f(a) + f(b) + 4 \\sum_{k=1}^{m} f\\left( x_{2k-1}\\right) + 2 \\sum_{k=1}^{m-1} f\\left( x_{2k}\\right) \\right] - \\frac{h^4(b-a)}{180} f^{(4)}(c)\n",
    "$$\n",
    "\n",
    "<br>\n",
    "\n",
    "**Exercise:** Code the Trapezoid and Simpson's Rules! Points to keep in mind:\n",
    "1. The definitions above assume the data comes from a function $f$. Can you write a method that works regardless of if the data comes from a function or is a set of data points?\n",
    "2. Can you write the code without using a for-loop?"
   ]
  },
  {
   "cell_type": "code",
   "execution_count": 18,
   "id": "8fbbfbf0",
   "metadata": {},
   "outputs": [],
   "source": [
    "def trapezoid_rule(x, y, a, b):\n",
    "    '''\n",
    "    Inputs: \n",
    "    Outputs:\n",
    "    '''\n",
    "    h = (b - a)/(len(x) - 1)\n",
    "\n",
    "    return 0.5*h*(y[0] + y[-1] + 2*np.sum(y[1:-1]))\n",
    "    \n",
    "    \n",
    "def simpsons_rule(x, y, a, b):\n",
    "    '''\n",
    "    Inputs: \n",
    "    Outputs:\n",
    "    '''\n",
    "    h = (b - a)/(len(x) - 1)\n",
    "    \n",
    "    return (1/3)*h*(y[0] + y[-1] + 4*np.sum(y[1::2]) + 2*np.sum(y[2:-2:2]))\n",
    "        "
   ]
  },
  {
   "cell_type": "markdown",
   "id": "365c6077",
   "metadata": {},
   "source": [
    "**Exercise:** \n",
    "1. Test the trapezoid and Simpson's rules on integrals that you know the answer to, and ones that you don't.\n",
    "2. Check that the trapezoid rule is exact on linear functions and Simpson's rule is exact on cubic polynomials."
   ]
  },
  {
   "cell_type": "code",
   "execution_count": 22,
   "id": "44fa72f0",
   "metadata": {},
   "outputs": [],
   "source": [
    "def test_trapezoid():\n",
    "    assert trapezoid_rule([0,1], [0,1], 0, 1) == 0.5\n",
    "\n",
    "def test_simpsons():\n",
    "    assert simpsons_rule([0, 0.5, 1], [0, 0.5, 1], 0, 1) == 0.5\n",
    "\n",
    "test_trapezoid()\n",
    "test_simpsons()"
   ]
  },
  {
   "cell_type": "markdown",
   "id": "e1ab1d9c",
   "metadata": {},
   "source": [
    "# Open Newton-Cotes Formulas\n",
    "\n",
    "### Midpoint Rule\n",
    "\n",
    "Split the interval $[a,b]$ into $m$ evenly spaced intervals with $h = (b-a)/m$ and $x_{k+1}-x_k = h$. Let $w_i$ be the midpoints of the intervals. That is\n",
    "$$\n",
    "a < w_1 < w_2 < \\cdots < w_{m-1} < w_m < b\n",
    "$$\n",
    "\n",
    "Then, assuming $f \\in C^2[a,b]$, there exists some $c$ in $[a,b]$ such that\n",
    "$$\n",
    "\\int_a^b f(x) \\ dx = h \\sum_{k=1}^m f\\left(w_k\\right) + \\frac{h^2(b-a)}{24} f''(c)\n",
    "$$\n",
    "\n",
    "**Exercise:** Code the Midpoint rule. Compare the error with the Trapezoid Rule. "
   ]
  },
  {
   "cell_type": "code",
   "execution_count": 2,
   "id": "1a5a4bf3",
   "metadata": {},
   "outputs": [],
   "source": [
    "def midpoint_rule():\n",
    "    '''\n",
    "    Inputs: \n",
    "    Outputs:\n",
    "    '''\n",
    "    \n",
    "    # Midpoint rule\n",
    "    \n",
    "    \n",
    "    "
   ]
  },
  {
   "cell_type": "markdown",
   "id": "a7d26360",
   "metadata": {},
   "source": []
  }
 ],
 "metadata": {
  "kernelspec": {
   "display_name": "Python 3.10.9 64-bit",
   "language": "python",
   "name": "python3"
  },
  "language_info": {
   "codemirror_mode": {
    "name": "ipython",
    "version": 3
   },
   "file_extension": ".py",
   "mimetype": "text/x-python",
   "name": "python",
   "nbconvert_exporter": "python",
   "pygments_lexer": "ipython3",
   "version": "3.10.9"
  },
  "vscode": {
   "interpreter": {
    "hash": "e7370f93d1d0cde622a1f8e1c04877d8463912d04d973331ad4851f04de6915a"
   }
  }
 },
 "nbformat": 4,
 "nbformat_minor": 5
}
