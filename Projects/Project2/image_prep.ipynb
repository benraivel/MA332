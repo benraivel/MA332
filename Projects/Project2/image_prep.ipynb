{
 "cells": [
  {
   "cell_type": "code",
   "execution_count": 1,
   "metadata": {},
   "outputs": [],
   "source": [
    "import numpy as np\n",
    "from PIL import Image\n",
    "from edge_detection import grayscale, blur"
   ]
  },
  {
   "attachments": {},
   "cell_type": "markdown",
   "metadata": {},
   "source": [
    "Load original color images"
   ]
  },
  {
   "cell_type": "code",
   "execution_count": 2,
   "metadata": {},
   "outputs": [],
   "source": [
    "goat_jpg = Image.open('images/Goat.JPG')\n",
    "leaf_jpg = Image.open('images/Leaf.JPG')\n",
    "trees_jpg = Image.open('images/Trees.JPG')\n",
    "dog_jpg = Image.open('images/Dog.JPG')"
   ]
  },
  {
   "attachments": {},
   "cell_type": "markdown",
   "metadata": {},
   "source": [
    "Convert to numpy array"
   ]
  },
  {
   "cell_type": "code",
   "execution_count": 3,
   "metadata": {},
   "outputs": [],
   "source": [
    "goat = np.transpose(np.asarray(goat_jpg), axes=(1,0,2))\n",
    "leaf = np.transpose(np.asarray(leaf_jpg), axes=(1,0,2))\n",
    "trees = np.asarray(trees_jpg)\n",
    "dog = np.transpose(np.asarray(dog_jpg), axes=(1,0,2))"
   ]
  },
  {
   "attachments": {},
   "cell_type": "markdown",
   "metadata": {},
   "source": [
    "Apply grayscale function"
   ]
  },
  {
   "cell_type": "code",
   "execution_count": 4,
   "metadata": {},
   "outputs": [],
   "source": [
    "gray_goat = grayscale(goat)\n",
    "gray_leaf = grayscale(leaf)\n",
    "gray_trees = grayscale(trees)\n",
    "gray_dog = grayscale(dog)"
   ]
  },
  {
   "attachments": {},
   "cell_type": "markdown",
   "metadata": {},
   "source": [
    "Apply blurring function"
   ]
  },
  {
   "cell_type": "code",
   "execution_count": 5,
   "metadata": {},
   "outputs": [],
   "source": [
    "blur_goat_1 = blur(gray_goat, 10, 5)\n",
    "blur_leaf_1 = blur(gray_leaf, 10, 5)\n",
    "blur_trees_1 = blur(gray_trees, 10, 5)\n",
    "blur_dog_1 = blur(gray_dog, 10, 5)\n",
    "\n",
    "blur_goat_2 = blur(gray_goat, 20, 10)\n",
    "blur_leaf_2 = blur(gray_leaf, 20, 10)\n",
    "blur_trees_2 = blur(gray_trees, 20, 10)\n",
    "blur_dog_2 = blur(gray_dog, 20, 10)"
   ]
  },
  {
   "attachments": {},
   "cell_type": "markdown",
   "metadata": {},
   "source": [
    "Save color, grayscale, and blurred images as numpy arrays"
   ]
  },
  {
   "cell_type": "code",
   "execution_count": 6,
   "metadata": {},
   "outputs": [],
   "source": [
    "np.save('images/Goat.npy', goat)\n",
    "np.save('images/GrayGoat.npy', gray_goat)\n",
    "np.save('images/BlurryGoat1.npy', blur_goat_1)\n",
    "np.save('images/BlurryGoat2.npy', blur_goat_2)\n",
    "\n",
    "np.save('images/Leaf.npy', leaf)\n",
    "np.save('images/GrayLeaf.npy', gray_leaf)\n",
    "np.save('images/BlurryLeaf1.npy', blur_leaf_1)\n",
    "np.save('images/BlurryLeaf2.npy', blur_leaf_2)\n",
    "\n",
    "np.save('images/Trees.npy', trees)\n",
    "np.save('images/GrayTrees.npy', gray_trees)\n",
    "np.save('images/BlurryTrees1.npy', blur_trees_1)\n",
    "np.save('images/BlurryTrees2.npy', blur_trees_2)\n",
    "\n",
    "np.save('images/Dog.npy', dog)\n",
    "np.save('images/GrayDog.npy', gray_dog)\n",
    "np.save('images/BlurryDog1.npy', blur_dog_1)\n",
    "np.save('images/BlurryDog2.npy', blur_dog_2)"
   ]
  }
 ],
 "metadata": {
  "kernelspec": {
   "display_name": "Python 3",
   "language": "python",
   "name": "python3"
  },
  "language_info": {
   "codemirror_mode": {
    "name": "ipython",
    "version": 3
   },
   "file_extension": ".py",
   "mimetype": "text/x-python",
   "name": "python",
   "nbconvert_exporter": "python",
   "pygments_lexer": "ipython3",
   "version": "3.10.10"
  },
  "orig_nbformat": 4
 },
 "nbformat": 4,
 "nbformat_minor": 2
}
