{
 "cells": [
  {
   "cell_type": "markdown",
   "metadata": {},
   "source": [
    "# MA332 Project 1: Numerical Root Finding"
   ]
  },
  {
   "cell_type": "markdown",
   "metadata": {},
   "source": [
    "Newton's Method\n",
    "$$\n",
    "x_{n+1} = x_n - \\frac{f(x_n)}{f^\\prime(x_n)}\n",
    "$$"
   ]
  },
  {
   "cell_type": "code",
   "execution_count": 12,
   "metadata": {},
   "outputs": [],
   "source": [
    "import numpy as np\n",
    "import matplotlib.pyplot as plt\n",
    "import math\n",
    "import sys"
   ]
  },
  {
   "cell_type": "code",
   "execution_count": 109,
   "metadata": {},
   "outputs": [],
   "source": [
    "def newtons_method(f, df, x0, tol=1e-6):\n",
    "    '''\n",
    "        Slightly modified version of the function from NewtonsMethod.ipynb\n",
    "    '''\n",
    "    \n",
    "    iMax = 1000\n",
    "    i = 0\n",
    "\n",
    "    x_n = x0\n",
    "    \n",
    "    stop_cond = 1 # allows the while loop to run the first time\n",
    "    \n",
    "    while stop_cond > tol:\n",
    "\n",
    "        if i > iMax:\n",
    "            return np.nan\n",
    "       \n",
    "        try:\n",
    "            x = x_n - f(x_n)/df(x_n)\n",
    "            \n",
    "        except ZeroDivisionError:\n",
    "            print(\"Derivative zero for x = \", x)\n",
    "            sys.exit(1) \n",
    "    \n",
    "        stop_cond = np.abs(x - x_n)\n",
    "        \n",
    "        x_n = x # Update x0 for the next iteration\n",
    "        i += 1 # Update the iterate tracker\n",
    "\n",
    "    return round(x, 3)"
   ]
  },
  {
   "cell_type": "code",
   "execution_count": 110,
   "metadata": {},
   "outputs": [],
   "source": [
    "def check_convergence(f, df, x1, x2, n=100, tol=1e-6):\n",
    "\n",
    "    results = np.empty(n)\n",
    "\n",
    "    test_x = np.linspace(x1, x2, n)\n",
    "\n",
    "    for i in range(n):\n",
    "\n",
    "        results[i] = newtons_method(f, df, test_x[i], tol)\n",
    "\n",
    "    return test_x, f(test_x), results"
   ]
  },
  {
   "cell_type": "code",
   "execution_count": 148,
   "metadata": {},
   "outputs": [],
   "source": [
    "def plot_convergence(axes, f, df, x1, x2, n=100, tol=1e-6):\n",
    "\n",
    "    x, y, roots = check_convergence(f, df, x1, x2, n, tol)\n",
    "\n",
    "    axes.plot(x, y)\n",
    "\n",
    "    axes.axhline(color='Black', lw=1)\n",
    "    axes.axvline(color='Black', lw=1)\n",
    "\n",
    "    for i in range(1, len(roots)-1):\n",
    "        if np.isnan(roots[i]):\n",
    "\n",
    "            fill_x = [(x[i-1] + x[i])/2, (x[i] + x[i+1])/2]\n",
    "            fill_y = [(y[i-1] + y[i])/2, (y[i] + y[i+1])/2]\n",
    "\n",
    "            axes.fill_between(fill_x, fill_y, 0, color='Red')\n",
    "\n",
    "    print(np.unique(np.asarray(roots)))"
   ]
  },
  {
   "cell_type": "code",
   "execution_count": 91,
   "metadata": {},
   "outputs": [],
   "source": [
    "def color_convergence(f, df, x1, x2, n=100, tol=1e-6):\n",
    "\n",
    "    x, y, roots = check_convergence(f, df, x1, x2, n, tol)\n",
    "\n",
    "    fig, axes = plt.subplots()\n",
    "\n",
    "    axes.plot(x, y)\n",
    "\n",
    "    axes.axhline(color='Black', lw=1)\n",
    "    axes.axvline(color='Black', lw=1)\n",
    "\n",
    "    for i in range(1, len(roots)-1):\n",
    "        print(roots[i])\n",
    "        if roots[i] == np.nan:\n",
    "\n",
    "            fill_x = [(x[i-1] + x[i])/2, (x[i] + x[i+1])/2]\n",
    "            fill_y = [(y[i-1] + y[i])/2, (y[i] + y[i+1])/2]\n",
    "\n",
    "            axes.fill_between(fill_x, fill_y, 0, color='Red')\n",
    "\n",
    "    plt.legend()\n",
    "    plt.show()"
   ]
  },
  {
   "cell_type": "code",
   "execution_count": 152,
   "metadata": {},
   "outputs": [
    {
     "name": "stdout",
     "output_type": "stream",
     "text": [
      "[-1.771    nan]\n"
     ]
    },
    {
     "data": {
      "image/png": "[encoded data removed]",
      "text/plain": [
       "<Figure size 640x480 with 1 Axes>"
      ]
     },
     "metadata": {},
     "output_type": "display_data"
    }
   ],
   "source": [
    "g = lambda x: x**3 - 2*x + 2.01626\n",
    "dg = lambda x: 3*x**2 - 2\n",
    "\n",
    "fig, axes = plt.subplots()\n",
    "plot_convergence(axes, g, dg, -2, 3, n=1000)\n",
    "plt.show()"
   ]
  },
  {
   "cell_type": "code",
   "execution_count": null,
   "metadata": {},
   "outputs": [],
   "source": [
    "from matplotlib.animation import FuncAnimation\n",
    "\n",
    "fig, axes = plt.subplots()\n",
    "\n",
    "def animate(t):\n",
    "    axes.plot()"
   ]
  }
 ],
 "metadata": {
  "kernelspec": {
   "display_name": "Python 3.10.9 64-bit",
   "language": "python",
   "name": "python3"
  },
  "language_info": {
   "codemirror_mode": {
    "name": "ipython",
    "version": 3
   },
   "file_extension": ".py",
   "mimetype": "text/x-python",
   "name": "python",
   "nbconvert_exporter": "python",
   "pygments_lexer": "ipython3",
   "version": "3.10.9"
  },
  "orig_nbformat": 4,
  "vscode": {
   "interpreter": {
    "hash": "e7370f93d1d0cde622a1f8e1c04877d8463912d04d973331ad4851f04de6915a"
   }
  }
 },
 "nbformat": 4,
 "nbformat_minor": 2
}
